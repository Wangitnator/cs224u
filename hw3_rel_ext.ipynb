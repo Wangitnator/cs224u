{
 "cells": [
  {
   "cell_type": "markdown",
   "metadata": {},
   "source": [
    "# Homework 3: Relation extraction using distant supervision"
   ]
  },
  {
   "cell_type": "code",
   "execution_count": 1,
   "metadata": {
    "pycharm": {
     "is_executing": false
    }
   },
   "outputs": [],
   "source": [
    "__author__ = \"Bill MacCartney\"\n",
    "__version__ = \"CS224U, Stanford, Spring 2019\""
   ]
  },
  {
   "cell_type": "markdown",
   "metadata": {},
   "source": [
    "## Contents\n",
    "\n",
    "1. [Overview](#Overview)\n",
    "1. [Set-up](#Set-up)\n",
    "1. [Baseline](#Baseline)\n",
    "1. [Homework questions](#Homework-questions)\n",
    "  1. [Different model factory [1 point]](#Different-model-factory-[1-point])\n",
    "  1. [Directional unigram features [2 points]](#Directional-unigram-features-[2-points])\n",
    "  1. [The part-of-speech tags of the \"middle\" words [2 points]](#The-part-of-speech-tags-of-the-\"middle\"-words-[2-points])\n",
    "  1. [Your original system [4 points]](#Your-original-system-[4-points])\n",
    "1. [Bake-off [1 point]](#Bake-off-[1-point])"
   ]
  },
  {
   "cell_type": "markdown",
   "metadata": {},
   "source": [
    "## Overview\n",
    "\n",
    "This homework and associated bake-off are devoted to the developing really effective relation extraction systems using distant supervision. \n",
    "\n",
    "As with the previous assignments, this notebook first establishes a baseline system. The initial homework questions ask you to create additional baselines and suggest areas for innovation, and the final homework question asks you to develop an original system for you to enter into the bake-off."
   ]
  },
  {
   "cell_type": "markdown",
   "metadata": {},
   "source": [
    "## Set-up\n",
    "\n",
    "See [the first notebook in this unit](rel_ext_01_task.ipynb#Set-up) for set-up instructions."
   ]
  },
  {
   "cell_type": "code",
   "execution_count": 2,
   "metadata": {
    "pycharm": {
     "is_executing": false
    }
   },
   "outputs": [],
   "source": [
    "from functools import partial\n",
    "import nltk\n",
    "import numpy as np\n",
    "import os\n",
    "import random\n",
    "import rel_ext\n",
    "from nltk.corpus import wordnet as wn\n",
    "from sklearn.ensemble import RandomForestClassifier\n",
    "from sklearn.linear_model import LogisticRegression\n",
    "from sklearn.naive_bayes import MultinomialNB\n",
    "from sklearn.svm import SVC\n",
    "import string\n",
    "import utils"
   ]
  },
  {
   "cell_type": "code",
   "execution_count": 3,
   "metadata": {},
   "outputs": [
    {
     "name": "stdout",
     "output_type": "stream",
     "text": [
      "GPE\n",
      "obt\n"
     ]
    }
   ],
   "source": [
    "sbt_obj = \"Stockholm\"\n",
    "obt_obj = \"Bergen\"\n",
    "#feature_counter[\"sbt_obj\"] = 0\n",
    "#feature_counter[\"obt_obj\"] = 0\n",
    "text = nltk.word_tokenize(sbt_obj)\n",
    "nes = nltk.ne_chunk(nltk.pos_tag(text))\n",
    "for ne in nes:\n",
    "    if type(ne) is nltk.tree.Tree and ne.label() == \"GPE\":\n",
    "        print(ne.label())\n",
    "        #feature_counter[\"sbt_obj\"] = 1\n",
    "\n",
    "text = nltk.word_tokenize(obt_obj)\n",
    "nes = nltk.ne_chunk(nltk.pos_tag(text))\n",
    "for ne in nes:\n",
    "    if type(ne) is nltk.tree.Tree and ne.label() == \"GPE\":\n",
    "        print(\"obt\")\n",
    "        #feature_counter[\"obt_obj\"] = 1"
   ]
  },
  {
   "cell_type": "markdown",
   "metadata": {},
   "source": [
    "As usual, we unite our corpus and KB into a dataset, and create some splits for experimentation:"
   ]
  },
  {
   "cell_type": "code",
   "execution_count": 4,
   "metadata": {
    "pycharm": {
     "is_executing": false
    }
   },
   "outputs": [],
   "source": [
    "DATA_HOME = '/home/kd/data/data'\n",
    "rel_ext_data_home = os.path.join(DATA_HOME, 'rel_ext_data')\n",
    "GLOVE_HOME = os.path.join(DATA_HOME, 'glove.6B')"
   ]
  },
  {
   "cell_type": "code",
   "execution_count": 5,
   "metadata": {},
   "outputs": [],
   "source": [
    "glove_lookup = utils.glove2dict(\n",
    "    os.path.join(GLOVE_HOME, 'glove.6B.300d.txt'))"
   ]
  },
  {
   "cell_type": "code",
   "execution_count": 6,
   "metadata": {
    "pycharm": {
     "is_executing": false
    }
   },
   "outputs": [],
   "source": [
    "corpus = rel_ext.Corpus(os.path.join(rel_ext_data_home, 'corpus.tsv.gz'))"
   ]
  },
  {
   "cell_type": "code",
   "execution_count": 7,
   "metadata": {
    "pycharm": {
     "is_executing": false
    }
   },
   "outputs": [],
   "source": [
    "kb = rel_ext.KB(os.path.join(rel_ext_data_home, 'kb.tsv.gz'))"
   ]
  },
  {
   "cell_type": "code",
   "execution_count": 8,
   "metadata": {
    "pycharm": {
     "is_executing": false
    }
   },
   "outputs": [],
   "source": [
    "dataset = rel_ext.Dataset(corpus, kb)"
   ]
  },
  {
   "cell_type": "markdown",
   "metadata": {},
   "source": [
    "You are not wedded to this set-up for splits. The bake-off will be conducted on a previously unseen test-set, so all of the data in `dataset` is fair game:"
   ]
  },
  {
   "cell_type": "code",
   "execution_count": 9,
   "metadata": {
    "pycharm": {
     "is_executing": false
    }
   },
   "outputs": [],
   "source": [
    "splits = dataset.build_splits(\n",
    "    split_names=['tiny', 'train', 'dev'],\n",
    "    split_fracs=[0.01, 0.79, 0.20],\n",
    "    seed=1)"
   ]
  },
  {
   "cell_type": "code",
   "execution_count": 10,
   "metadata": {
    "pycharm": {
     "is_executing": false
    }
   },
   "outputs": [
    {
     "data": {
      "text/plain": [
       "{'all': Corpus with 331,696 examples; KB with 45,884 triples,\n",
       " 'dev': Corpus with 64,937 examples; KB with 9,248 triples,\n",
       " 'tiny': Corpus with 3,474 examples; KB with 445 triples,\n",
       " 'train': Corpus with 263,285 examples; KB with 36,191 triples}"
      ]
     },
     "execution_count": 10,
     "metadata": {},
     "output_type": "execute_result"
    }
   ],
   "source": [
    "splits"
   ]
  },
  {
   "cell_type": "markdown",
   "metadata": {},
   "source": [
    "## Baseline"
   ]
  },
  {
   "cell_type": "code",
   "execution_count": 11,
   "metadata": {
    "pycharm": {
     "is_executing": false
    }
   },
   "outputs": [],
   "source": [
    "def simple_bag_of_words_featurizer(kbt, corpus, feature_counter, \n",
    "                                    use_middle_length=False, \n",
    "                                    use_entities=False,\n",
    "                                    context_section='middle', # can be 'left', 'right', or 'middle'\n",
    "                                    use_synsets=False):\n",
    "    \n",
    "    for ex in corpus.get_examples_for_entities(kbt.sbj, kbt.obj):\n",
    "        words = None\n",
    "        if context_section == 'left':\n",
    "            words = ex.left.split(' ')\n",
    "        elif context_section == 'right':\n",
    "            words = ex.right.split(' ')\n",
    "        elif context_section == 'middle':\n",
    "            words = ex.middle.split(' ')\n",
    "        else:\n",
    "            words = ' '.join((ex.left, ex.mention_1, ex.middle, ex.mention_2, ex.right)).split(' ')\n",
    "        \n",
    "        if use_synsets:            \n",
    "            pos_s = ex.middle_POS.split(' ')\n",
    "            for word, pos in zip(words,pos_s):\n",
    "                if word not in string.punctuation:\n",
    "                    feature_counter[word] += 1\n",
    "                    pos_split = pos.rsplit('/', 1)\n",
    "                    word, pos_word = pos_split[0], pos_split[1]\n",
    "                    synsets = wn.synsets(word, pos_word)\n",
    "                    for syn in synsets:\n",
    "                        feature_counter[syn.lemma()] += 1\n",
    "        else: \n",
    "            for word in words:\n",
    "                feature_counter[word] += 1\n",
    "        \n",
    "        if use_middle_length:\n",
    "            feature_counter['NUM_WORD_IN_MIDDLE']  += len(words)\n",
    "        if use_entities:\n",
    "            feature_counter[kbt.sbj] += 1\n",
    "            feature_counter[kbt.obj] += 1\n",
    "            \n",
    "    for ex in corpus.get_examples_for_entities(kbt.obj, kbt.sbj):\n",
    "        words = None\n",
    "        if context_section == 'left':\n",
    "            words = ex.left.split(' ')\n",
    "        elif context_section == 'right':\n",
    "            words = ex.right.split(' ')\n",
    "        else:\n",
    "            words = ex.middle.split(' ')\n",
    "\n",
    "        if use_synsets:            \n",
    "            pos_s = ex.middle_POS.split(' ')\n",
    "            for word, pos in zip(words,pos_s):\n",
    "                if word not in string.punctuation:\n",
    "                    feature_counter[word] += 1\n",
    "                    pos_split = pos.rsplit('/', 1)\n",
    "                    word, pos_word = pos_split[0], pos_split[1]\n",
    "                    synsets = wn.synsets(word, pos_word)\n",
    "                    for syn in synsets:\n",
    "                        feature_counter[syn.lemma()] += 1\n",
    "        else: \n",
    "            for word in words:\n",
    "                feature_counter[word] += 1\n",
    "        if use_middle_length:\n",
    "            feature_counter['NUM_WORD_IN_MIDDLE']  += len(words)\n",
    "        if use_entities:\n",
    "            feature_counter[kbt.sbj] += 1\n",
    "            feature_counter[kbt.obj] += 1\n",
    "            \n",
    "    return feature_counter"
   ]
  },
  {
   "cell_type": "code",
   "execution_count": 12,
   "metadata": {
    "pycharm": {
     "is_executing": false
    }
   },
   "outputs": [],
   "source": [
    "featurizers = [simple_bag_of_words_featurizer]"
   ]
  },
  {
   "cell_type": "code",
   "execution_count": 13,
   "metadata": {
    "pycharm": {
     "is_executing": false
    }
   },
   "outputs": [],
   "source": [
    "model_factory = lambda: LogisticRegression(fit_intercept=True, solver='liblinear')\n",
    "\n",
    "# we create below model factories, in case model_factory fails to converge, we need to use more iterations\n",
    "# to try and achieve convergence\n",
    "model_factory_2k = lambda: LogisticRegression(fit_intercept=True, solver='liblinear', max_iter=2000)\n",
    "model_factory_4k = lambda: LogisticRegression(fit_intercept=True, solver='liblinear', max_iter=4000)"
   ]
  },
  {
   "cell_type": "code",
   "execution_count": 14,
   "metadata": {
    "pycharm": {
     "is_executing": false
    }
   },
   "outputs": [
    {
     "name": "stdout",
     "output_type": "stream",
     "text": [
      "relation              precision     recall    f-score    support       size\n",
      "------------------    ---------  ---------  ---------  ---------  ---------\n",
      "nationality               0.588      0.199      0.423        301       5677\n",
      "capital                   0.688      0.232      0.493         95       5471\n",
      "author                    0.815      0.528      0.735        509       5885\n",
      "contains                  0.790      0.600      0.743       3904       9280\n",
      "founders                  0.805      0.392      0.665        380       5756\n",
      "profession                0.588      0.190      0.414        247       5623\n",
      "parents                   0.890      0.545      0.790        312       5688\n",
      "worked_at                 0.694      0.244      0.507        242       5618\n",
      "film_performance          0.803      0.570      0.743        766       6142\n",
      "has_sibling               0.884      0.228      0.562        499       5875\n",
      "place_of_death            0.462      0.113      0.286        159       5535\n",
      "place_of_birth            0.690      0.210      0.474        233       5609\n",
      "has_spouse                0.882      0.315      0.648        594       5970\n",
      "genre                     0.622      0.165      0.400        170       5546\n",
      "adjoins                   0.900      0.371      0.700        340       5716\n",
      "is_a                      0.675      0.221      0.479        497       5873\n",
      "------------------    ---------  ---------  ---------  ---------  ---------\n",
      "macro-average             0.736      0.320      0.566       9248      95264\n"
     ]
    }
   ],
   "source": [
    "baseline_results = rel_ext.experiment(\n",
    "    splits,\n",
    "    train_split='train',\n",
    "    test_split='dev',\n",
    "    featurizers=featurizers,\n",
    "    model_factory=model_factory,\n",
    "    verbose=True)"
   ]
  },
  {
   "cell_type": "markdown",
   "metadata": {},
   "source": [
    "Studying model weights might yield insights:"
   ]
  },
  {
   "cell_type": "code",
   "execution_count": 15,
   "metadata": {
    "pycharm": {
     "is_executing": false
    }
   },
   "outputs": [
    {
     "name": "stdout",
     "output_type": "stream",
     "text": [
      "Highest and lowest feature weights for relation nationality:\n",
      "\n",
      "     2.866 born\n",
      "     1.875 Foreign\n",
      "     1.869 Pinky\n",
      "     ..... .....\n",
      "    -1.393 and\n",
      "    -1.406 American\n",
      "    -1.693 state\n",
      "\n",
      "Highest and lowest feature weights for relation capital:\n",
      "\n",
      "     3.363 capital\n",
      "     1.911 especially\n",
      "     1.765 now\n",
      "     ..... .....\n",
      "    -1.342 and\n",
      "    -2.794 Isfahan\n",
      "    -2.815 Province\n",
      "\n",
      "Highest and lowest feature weights for relation author:\n",
      "\n",
      "     2.837 books\n",
      "     2.620 book\n",
      "     2.196 by\n",
      "     ..... .....\n",
      "    -2.655 only\n",
      "    -2.999 1818\n",
      "    -3.201 1890\n",
      "\n",
      "Highest and lowest feature weights for relation contains:\n",
      "\n",
      "     2.897 third-largest\n",
      "     2.084 bordered\n",
      "     2.035 continent\n",
      "     ..... .....\n",
      "    -2.537 who\n",
      "    -2.699 Isfahan\n",
      "    -2.757 second-largest\n",
      "\n",
      "Highest and lowest feature weights for relation founders:\n",
      "\n",
      "     4.008 founder\n",
      "     3.954 founded\n",
      "     2.550 label\n",
      "     ..... .....\n",
      "    -1.800 novel\n",
      "    -1.849 William\n",
      "    -2.018 Griffith\n",
      "\n",
      "Highest and lowest feature weights for relation profession:\n",
      "\n",
      "     3.487 \n",
      "     2.591 American\n",
      "     2.330 vocalist\n",
      "     ..... .....\n",
      "    -1.297 at\n",
      "    -1.304 about\n",
      "    -2.302 on\n",
      "\n",
      "Highest and lowest feature weights for relation parents:\n",
      "\n",
      "     4.853 son\n",
      "     4.637 daughter\n",
      "     4.474 father\n",
      "     ..... .....\n",
      "    -1.465 when\n",
      "    -1.605 succeeded\n",
      "    -1.732 played\n",
      "\n",
      "Highest and lowest feature weights for relation worked_at:\n",
      "\n",
      "     3.355 professor\n",
      "     2.921 president\n",
      "     2.672 employee\n",
      "     ..... .....\n",
      "    -1.234 William\n",
      "    -1.368 novel\n",
      "    -1.613 or\n",
      "\n",
      "Highest and lowest feature weights for relation film_performance:\n",
      "\n",
      "     4.288 starring\n",
      "     3.780 co-starring\n",
      "     3.743 alongside\n",
      "     ..... .....\n",
      "    -1.998 Wonderland\n",
      "    -2.039 series\n",
      "    -2.068 spy\n",
      "\n",
      "Highest and lowest feature weights for relation has_sibling:\n",
      "\n",
      "     5.149 brother\n",
      "     4.178 sister\n",
      "     2.713 nephew\n",
      "     ..... .....\n",
      "    -1.304 alongside\n",
      "    -1.370 including\n",
      "    -1.846 Picasso\n",
      "\n",
      "Highest and lowest feature weights for relation place_of_death:\n",
      "\n",
      "     2.196 died\n",
      "     1.864 rebuilt\n",
      "     1.730 where\n",
      "     ..... .....\n",
      "    -1.155 northern\n",
      "    -1.159 or\n",
      "    -1.289 and\n",
      "\n",
      "Highest and lowest feature weights for relation place_of_birth:\n",
      "\n",
      "     4.015 born\n",
      "     3.049 birthplace\n",
      "     2.418 mayor\n",
      "     ..... .....\n",
      "    -1.334 or\n",
      "    -1.350 I\n",
      "    -1.496 and\n",
      "\n",
      "Highest and lowest feature weights for relation has_spouse:\n",
      "\n",
      "     5.125 wife\n",
      "     4.315 widow\n",
      "     4.075 husband\n",
      "     ..... .....\n",
      "    -1.527 real-life\n",
      "    -1.637 Terri\n",
      "    -1.924 Picasso\n",
      "\n",
      "Highest and lowest feature weights for relation genre:\n",
      "\n",
      "     2.929 series\n",
      "     2.861 album\n",
      "     2.343 game\n",
      "     ..... .....\n",
      "    -1.308 Playhouse\n",
      "    -1.484 and\n",
      "    -1.856 at\n",
      "\n",
      "Highest and lowest feature weights for relation adjoins:\n",
      "\n",
      "     2.563 Córdoba\n",
      "     2.504 Taluks\n",
      "     2.404 Valais\n",
      "     ..... .....\n",
      "    -1.317 Europe\n",
      "    -1.341 he\n",
      "    -1.557 who\n",
      "\n",
      "Highest and lowest feature weights for relation is_a:\n",
      "\n",
      "     2.975 \n",
      "     2.804 family\n",
      "     2.508 order\n",
      "     ..... .....\n",
      "    -1.615 where\n",
      "    -3.377 Bombus\n",
      "    -3.612 widespread\n",
      "\n"
     ]
    }
   ],
   "source": [
    "rel_ext.examine_model_weights(baseline_results)"
   ]
  },
  {
   "cell_type": "markdown",
   "metadata": {},
   "source": [
    "## Homework questions\n",
    "\n",
    "Please embed your homework responses in this notebook, and do not delete any cells from the notebook. (You are free to add as many cells as you like as part of your responses.)"
   ]
  },
  {
   "cell_type": "markdown",
   "metadata": {},
   "source": [
    "### Different model factory [1 point]\n",
    "\n",
    "The code in `rel_ext` makes it very easy to experiment with other classifier models: one need only redefine the `model_factory` argument. This question asks you to assess a [Support Vector Classifier](https://scikit-learn.org/stable/modules/generated/sklearn.svm.SVC.html).\n",
    "\n",
    "__To submit:__ A call to `rel_ext.experiment` training on the 'train' part of `splits` and assessing on its `dev` part, with `featurizers` as defined above in this notebook and the `model_factory` set to one based in an `SVC` with `kernel='linear'` and all other arguments left with default values."
   ]
  },
  {
   "cell_type": "code",
   "execution_count": 16,
   "metadata": {},
   "outputs": [],
   "source": [
    "svc_model_factory = lambda: SVC(kernel='linear')"
   ]
  },
  {
   "cell_type": "code",
   "execution_count": 17,
   "metadata": {
    "pycharm": {
     "is_executing": false
    }
   },
   "outputs": [
    {
     "name": "stdout",
     "output_type": "stream",
     "text": [
      "relation              precision     recall    f-score    support       size\n",
      "------------------    ---------  ---------  ---------  ---------  ---------\n",
      "nationality               0.567      0.196      0.411        301       5677\n",
      "capital                   0.690      0.305      0.551         95       5471\n",
      "author                    0.737      0.611      0.708        509       5885\n",
      "contains                  0.782      0.604      0.738       3904       9280\n",
      "founders                  0.720      0.426      0.633        380       5756\n",
      "profession                0.527      0.235      0.422        247       5623\n",
      "parents                   0.815      0.593      0.758        312       5688\n",
      "worked_at                 0.667      0.289      0.529        242       5618\n",
      "film_performance          0.752      0.627      0.723        766       6142\n",
      "has_sibling               0.811      0.240      0.550        499       5875\n",
      "place_of_death            0.377      0.126      0.270        159       5535\n",
      "place_of_birth            0.632      0.236      0.473        233       5609\n",
      "has_spouse                0.803      0.350      0.638        594       5970\n",
      "genre                     0.566      0.253      0.454        170       5546\n",
      "adjoins                   0.759      0.324      0.598        340       5716\n",
      "is_a                      0.568      0.262      0.460        497       5873\n",
      "------------------    ---------  ---------  ---------  ---------  ---------\n",
      "macro-average             0.673      0.355      0.557       9248      95264\n"
     ]
    }
   ],
   "source": [
    "svc_results = rel_ext.experiment(\n",
    "    splits,\n",
    "    train_split='train',\n",
    "    test_split='dev',\n",
    "    featurizers=featurizers,\n",
    "    model_factory=svc_model_factory,\n",
    "    verbose=True)"
   ]
  },
  {
   "cell_type": "markdown",
   "metadata": {},
   "source": [
    "### Directional unigram features [2 points]\n",
    "\n",
    "The current bag-of-words representation makes no distinction between \"forward\" and \"reverse\" examples. But, intuitively, there is big difference between _X and his son Y_ and _Y and his son X_. This question asks you to modify `simple_bag_of_words_featurizer` to capture these differences. \n",
    "\n",
    "__To submit:__\n",
    "\n",
    "1. A feature function `directional_bag_of_words_featurizer` that is just like `simple_bag_of_words_featurizer` except that it distinguishes \"forward\" and \"reverse\". To do this, you just need to mark each word feature for whether it is derived from a subject–object example or from an object–subject example. The precise nature of the mark you add for the two cases doesn't make a difference to the model.\n",
    "\n",
    "2. The macro-average F-score on the `dev` set that you obtain from running `rel_ext.experiment` with `directional_bag_of_words_featurizer` as the only featurizer. (Aside from this, use all the default values for `experiment` as exemplified above in this notebook.)\n",
    "\n",
    "3. `rel_ext.experiment` returns some of the core objects used in the experiment. How many feature names does the `vectorizer` have for the experiment run in the previous step? (Note: we're partly asking you to figure out how to get this value by using the sklearn documentation, so please don't ask how to do it on Piazza!)"
   ]
  },
  {
   "cell_type": "code",
   "execution_count": 18,
   "metadata": {},
   "outputs": [],
   "source": [
    "def directional_bag_of_words_featurizer(kbt, corpus, feature_counter, fwd_prefix='$FWD_DIRECTION: ', \n",
    "                                        bwd_prefix='$BWD_DIREECTION: ', use_middle_length=False,\n",
    "                                        use_entities=False, include_left=False, include_right=False,\n",
    "                                       use_entities2=False):\n",
    "    count = 0\n",
    "    for ex in corpus.get_examples_for_entities(kbt.sbj, kbt.obj):\n",
    "        count += 1\n",
    "        words = ex.middle.split(' ')\n",
    "        for word in words:\n",
    "            word_direction = fwd_prefix + \"_middle_\" + word\n",
    "            feature_counter[word_direction] += 1\n",
    "        if use_middle_length:\n",
    "            feature_counter[fwd_prefix + 'NUM_WORD_IN_MIDDLE']  += len(words)\n",
    "        if include_left:\n",
    "            words = ex.left.split(' ')\n",
    "            for word in words:\n",
    "                word_key = fwd_prefix + \"_left_\" + word\n",
    "                feature_counter[word_key] += 1\n",
    "            if use_middle_length:\n",
    "                feature_counter[fwd_prefix + 'NUM_WORD_IN_LEFT']  += len(words)\n",
    "        if include_right:\n",
    "            words = ex.right.split(' ')\n",
    "            for word in words:\n",
    "                word_key = fwd_prefix + \"_right_\" + word\n",
    "                feature_counter[word_key] += 1\n",
    "            if use_middle_length:\n",
    "                feature_counter[fwd_prefix + 'NUM_WORD_IN_RIGHT']  += len(words)                \n",
    "        if use_entities:\n",
    "            feature_counter[fwd_prefix + kbt.sbj] += 1\n",
    "            feature_counter[fwd_prefix + kbt.obj] += 1\n",
    "        if use_entities2:\n",
    "            feature_counter[\"fwd_kbt.sbj\"] += 1\n",
    "            feature_counter[\"fwd_kbt.obj\"] += 1\n",
    "\n",
    "    count = max(count, 1)\n",
    "    if use_middle_length:\n",
    "        feature_counter[fwd_prefix + 'NUM_WORD_IN_MIDDLE']  /= count\n",
    "    if include_left:\n",
    "        feature_counter[fwd_prefix + 'NUM_WORD_IN_LEFT'] /= count\n",
    "    if include_right:\n",
    "        feature_counter[fwd_prefix + 'NUM_WORD_IN_RIGHT'] /= count\n",
    "        \n",
    "    count = 0\n",
    "    for ex in corpus.get_examples_for_entities(kbt.obj, kbt.sbj):\n",
    "        count += 1\n",
    "        words = ex.middle.split(' ')\n",
    "        for word in words:\n",
    "            word_direction = bwd_prefix +\"_middle_\" + word\n",
    "            feature_counter[word_direction] += 1\n",
    "        if use_middle_length:\n",
    "            feature_counter['BWD_NUM_WORD_IN_MIDDLE']  += len(words)\n",
    "            \n",
    "        if include_left:\n",
    "            words = ex.left.split(' ')\n",
    "            for word in words:\n",
    "                word_key = bwd_prefix + \"_left_\" + word\n",
    "                feature_counter[word_key] += 1\n",
    "            if use_middle_length:\n",
    "                feature_counter['BWD_NUM_WORD_IN_LEFT']  += len(words)\n",
    "        if include_right:\n",
    "            words = ex.right.split(' ')\n",
    "            for word in words:\n",
    "                word_key = bwd_prefix + \"_right_\" + word\n",
    "                feature_counter[word_key] += 1\n",
    "            if use_middle_length:\n",
    "                feature_counter[bwd_prefix +\"BWD_NUM_WORD_IN_RIGHT'\"]  += len(words)\n",
    "        if use_entities:\n",
    "            feature_counter[bwd_prefix + kbt.sbj] += 1\n",
    "            feature_counter[bwd_prefix + kbt.obj] += 1\n",
    "        if use_entities2:\n",
    "            feature_counter[\"bwd_kbt.sbj\"] += 1\n",
    "            feature_counter[\"bwd_kbt.obj\"] += 1\n",
    "            \n",
    "    count = max(count, 1)\n",
    "\n",
    "    if use_middle_length:\n",
    "        feature_counter[fwd_prefix + 'NUM_WORD_IN_MIDDLE']  /= count\n",
    "    if include_left:\n",
    "        feature_counter[fwd_prefix + 'NUM_WORD_IN_LEFT'] /= count\n",
    "    if include_right:\n",
    "        feature_counter[fwd_prefix + 'NUM_WORD_IN_RIGHT'] /= count\n",
    "\n",
    "    return feature_counter"
   ]
  },
  {
   "cell_type": "code",
   "execution_count": 19,
   "metadata": {
    "pycharm": {
     "is_executing": false
    }
   },
   "outputs": [
    {
     "name": "stdout",
     "output_type": "stream",
     "text": [
      "relation              precision     recall    f-score    support       size\n",
      "------------------    ---------  ---------  ---------  ---------  ---------\n",
      "nationality               0.648      0.233      0.477        301       5677\n",
      "capital                   0.641      0.263      0.498         95       5471\n",
      "author                    0.848      0.591      0.780        509       5885\n",
      "contains                  0.809      0.668      0.776       3904       9280\n",
      "founders                  0.793      0.413      0.670        380       5756\n",
      "profession                0.731      0.231      0.510        247       5623\n",
      "parents                   0.900      0.519      0.785        312       5688\n",
      "worked_at                 0.810      0.264      0.573        242       5618\n",
      "film_performance          0.855      0.653      0.805        766       6142\n",
      "has_sibling               0.887      0.251      0.588        499       5875\n",
      "place_of_death            0.697      0.145      0.395        159       5535\n",
      "place_of_birth            0.753      0.236      0.524        233       5609\n",
      "has_spouse                0.876      0.343      0.668        594       5970\n",
      "genre                     0.793      0.271      0.572        170       5546\n",
      "adjoins                   0.857      0.406      0.701        340       5716\n",
      "is_a                      0.779      0.241      0.539        497       5873\n",
      "------------------    ---------  ---------  ---------  ---------  ---------\n",
      "macro-average             0.792      0.358      0.616       9248      95264\n"
     ]
    }
   ],
   "source": [
    "directional_bag_results = rel_ext.experiment(\n",
    "    splits,\n",
    "    train_split='train',\n",
    "    test_split='dev',\n",
    "    featurizers=[directional_bag_of_words_featurizer],\n",
    "    model_factory=model_factory,\n",
    "    verbose=True)"
   ]
  },
  {
   "cell_type": "code",
   "execution_count": 20,
   "metadata": {},
   "outputs": [
    {
     "name": "stdout",
     "output_type": "stream",
     "text": [
      "relation              precision     recall    f-score    support       size\n",
      "------------------    ---------  ---------  ---------  ---------  ---------\n",
      "nationality               0.831      0.654      0.789        301       5677\n",
      "capital                   0.686      0.253      0.511         95       5471\n",
      "author                    0.877      0.727      0.842        509       5885\n",
      "contains                  0.860      0.692      0.820       3904       9280\n",
      "founders                  0.790      0.495      0.706        380       5756\n",
      "profession                0.877      0.462      0.743        247       5623\n",
      "parents                   0.873      0.641      0.814        312       5688\n",
      "worked_at                 0.761      0.343      0.612        242       5618\n",
      "film_performance          0.861      0.702      0.824        766       6142\n",
      "has_sibling               0.901      0.673      0.844        499       5875\n",
      "place_of_death            0.795      0.415      0.672        159       5535\n",
      "place_of_birth            0.825      0.446      0.706        233       5609\n",
      "has_spouse                0.845      0.670      0.803        594       5970\n",
      "genre                     0.800      0.259      0.564        170       5546\n",
      "adjoins                   0.788      0.535      0.720        340       5716\n",
      "is_a                      0.869      0.493      0.754        497       5873\n",
      "------------------    ---------  ---------  ---------  ---------  ---------\n",
      "macro-average             0.827      0.529      0.733       9248      95264\n"
     ]
    }
   ],
   "source": [
    "directional_bag_left_right_results = rel_ext.experiment(\n",
    "    splits,\n",
    "    train_split='train',\n",
    "    test_split='dev',\n",
    "    featurizers=[partial(directional_bag_of_words_featurizer, use_middle_length=True, \n",
    "                         use_entities=True, include_left=True, include_right=True)],\n",
    "    model_factory=model_factory_4k,\n",
    "    verbose=True)"
   ]
  },
  {
   "cell_type": "markdown",
   "metadata": {},
   "source": [
    "### The part-of-speech tags of the \"middle\" words [2 points]\n",
    "\n",
    "Our corpus distribution contains part-of-speech (POS) tagged versions of the core text spans. Let's begin to explore whether there is information in these sequences, focusing on `middle_POS`.\n",
    "\n",
    "__To submit:__\n",
    "\n",
    "1. A feature function `middle_bigram_pos_tag_featurizer` that is just like `simple_bag_of_words_featurizer` except that it creates a feature for bigram POS sequences. For example, given \n",
    "\n",
    "  `The/DT dog/N napped/V`\n",
    "  \n",
    "   we obtain the list of bigram POS sequences\n",
    "  \n",
    "   `b = ['<s> DT', 'DT N', 'N V', 'V </s>']`. \n",
    "   \n",
    "   Of course, `middle_bigram_pos_tag_featurizer` should return count dictionaries defined in terms of such bigram POS lists, on the model of `simple_bag_of_words_featurizer`.\n",
    "   \n",
    "   Don't forget the start and end tags, to model those environments properly!\n",
    "\n",
    "2. The macro-average F-score on the `dev` set that you obtain from running `rel_ext.experiment` with `middle_bigram_pos_tag_featurizer` as the only featurizer. (Aside from this, use all the default values for `experiment` as exemplified above in this notebook.)\n",
    "\n",
    "Note: To parse `middle_POS`, one splits on whitespace to get the `word/TAG` pairs. Each of these pairs `s` can be parsed with `s.rsplit('/', 1)`."
   ]
  },
  {
   "cell_type": "code",
   "execution_count": 21,
   "metadata": {},
   "outputs": [],
   "source": [
    "def pos_featurize(pos_segments, feature_counter, prefix=\"\"):\n",
    "    word_POSs = pos_segments.split(' ')\n",
    "    len_POS = len(word_POSs)\n",
    "    for i in range(-1, len_POS - 1):\n",
    "        pos = word_POSs[i].rsplit('/', 1)\n",
    "        bigram = \"\"\n",
    "        if len(pos) > 1:\n",
    "            if i == -1:\n",
    "                bigram = '<s> ' + pos[1]\n",
    "            elif i == len_POS - 2:\n",
    "                bigram = pos[1] + ' </s>'\n",
    "            else:\n",
    "                bigram = pos[1] + \" \" + word_POSs[i+1].rsplit('/', 1)[1]\n",
    "        feature_counter[prefix + bigram] += 1\n",
    "    return feature_counter"
   ]
  },
  {
   "cell_type": "code",
   "execution_count": 22,
   "metadata": {},
   "outputs": [],
   "source": [
    "def bigram_pos_tag_featurizer(kbt, corpus, feature_counter, use_left=False, use_right=False, use_bt_pos=False):\n",
    "    for ex in corpus.get_examples_for_entities(kbt.sbj, kbt.obj):\n",
    "        if use_bt_pos:\n",
    "            mention_pos_1 = ex.mention_1_POS.rsplit('/',1)\n",
    "            mention_pos_2 = ex.mention_1_POS.rsplit('/',1)\n",
    "            feature_counter[\"sbj_\"+mention_pos_1[1]] = 1\n",
    "            feature_counter[\"obj_\"+mention_pos_1[1]] = 1\n",
    "        feature_counter = pos_featurize(ex.middle_POS, feature_counter, \"middle\")\n",
    "        if use_left:\n",
    "            feature_counter = pos_featurize(ex.left_POS, feature_counter, \"left\")\n",
    "        if use_right:\n",
    "            feature_counter = pos_featurize(ex.right_POS, feature_counter, \"right\")\n",
    "    return feature_counter"
   ]
  },
  {
   "cell_type": "code",
   "execution_count": 23,
   "metadata": {},
   "outputs": [],
   "source": [
    "def middle_bigram_pos_tag_featurizer(kbt, corpus, feature_counter):\n",
    "    feature_counter = bigram_pos_tag_featurizer(kbt, corpus, feature_counter)\n",
    "    return feature_counter"
   ]
  },
  {
   "cell_type": "code",
   "execution_count": 24,
   "metadata": {
    "pycharm": {
     "is_executing": false
    }
   },
   "outputs": [
    {
     "name": "stdout",
     "output_type": "stream",
     "text": [
      "relation              precision     recall    f-score    support       size\n",
      "------------------    ---------  ---------  ---------  ---------  ---------\n",
      "nationality               0.648      0.153      0.393        301       5677\n",
      "capital                   0.632      0.126      0.351         95       5471\n",
      "author                    0.801      0.246      0.552        509       5885\n",
      "contains                  0.712      0.290      0.551       3904       9280\n",
      "founders                  0.689      0.134      0.377        380       5756\n",
      "profession                0.692      0.182      0.444        247       5623\n",
      "parents                   0.696      0.228      0.493        312       5688\n",
      "worked_at                 0.589      0.136      0.354        242       5618\n",
      "film_performance          0.721      0.230      0.505        766       6142\n",
      "has_sibling               0.718      0.158      0.421        499       5875\n",
      "place_of_death            0.607      0.107      0.314        159       5535\n",
      "place_of_birth            0.708      0.197      0.467        233       5609\n",
      "has_spouse                0.806      0.253      0.561        594       5970\n",
      "genre                     0.722      0.076      0.269        170       5546\n",
      "adjoins                   0.877      0.397      0.706        340       5716\n",
      "is_a                      0.702      0.171      0.433        497       5873\n",
      "------------------    ---------  ---------  ---------  ---------  ---------\n",
      "macro-average             0.708      0.193      0.449       9248      95264\n"
     ]
    }
   ],
   "source": [
    "pos_results = rel_ext.experiment(\n",
    "    splits,\n",
    "    train_split='train',\n",
    "    test_split='dev',\n",
    "    featurizers=[middle_bigram_pos_tag_featurizer],\n",
    "    model_factory=model_factory,\n",
    "    verbose=True)"
   ]
  },
  {
   "cell_type": "code",
   "execution_count": 25,
   "metadata": {},
   "outputs": [
    {
     "name": "stdout",
     "output_type": "stream",
     "text": [
      "relation              precision     recall    f-score    support       size\n",
      "------------------    ---------  ---------  ---------  ---------  ---------\n",
      "nationality               0.600      0.249      0.468        301       5677\n",
      "capital                   0.483      0.147      0.332         95       5471\n",
      "author                    0.741      0.348      0.604        509       5885\n",
      "contains                  0.790      0.283      0.582       3904       9280\n",
      "founders                  0.670      0.197      0.453        380       5756\n",
      "profession                0.663      0.223      0.475        247       5623\n",
      "parents                   0.709      0.266      0.532        312       5688\n",
      "worked_at                 0.633      0.236      0.473        242       5618\n",
      "film_performance          0.705      0.305      0.559        766       6142\n",
      "has_sibling               0.712      0.263      0.530        499       5875\n",
      "place_of_death            0.587      0.233      0.450        159       5535\n",
      "place_of_birth            0.578      0.253      0.460        233       5609\n",
      "has_spouse                0.709      0.308      0.563        594       5970\n",
      "genre                     0.559      0.112      0.310        170       5546\n",
      "adjoins                   0.798      0.476      0.703        340       5716\n",
      "is_a                      0.667      0.209      0.464        497       5873\n",
      "------------------    ---------  ---------  ---------  ---------  ---------\n",
      "macro-average             0.663      0.257      0.497       9248      95264\n"
     ]
    }
   ],
   "source": [
    "pos_results = rel_ext.experiment(\n",
    "    splits,\n",
    "    train_split='train',\n",
    "    test_split='dev',\n",
    "    featurizers=[partial(bigram_pos_tag_featurizer, use_left=True, use_right=False, use_bt_pos=True)],\n",
    "    model_factory=model_factory_4k,\n",
    "    verbose=True)"
   ]
  },
  {
   "cell_type": "markdown",
   "metadata": {},
   "source": [
    "### Your original system [4 points]\n",
    "\n",
    "There are many options, and this could easily grow into a project. Here are a few ideas:\n",
    "\n",
    "- Try out different classifier models, from `sklearn` and elsewhere.\n",
    "- Add a feature that indicates the length of the middle.\n",
    "- Augment the bag-of-words representation to include bigrams or trigrams (not just unigrams).\n",
    "- Introduce features based on the entity mentions themselves. <!-- \\[SPOILER: it helps a lot, maybe 4% in F-score. And combines nicely with the directional features.\\] -->\n",
    "- Experiment with features based on the context outside (rather than between) the two entity mentions — that is, the words before the first mention, or after the second.\n",
    "- Try adding features which capture syntactic information, such as the dependency-path features used by Mintz et al. 2009. The [NLTK](https://www.nltk.org/) toolkit contains a variety of [parsing algorithms](http://www.nltk.org/api/nltk.parse.html) that may help.\n",
    "- The bag-of-words representation does not permit generalization across word categories such as names of people, places, or companies. Can we do better using word embeddings such as [GloVe](https://nlp.stanford.edu/projects/glove/)?\n",
    "- Consider adding features based on WordNet synsets. Here's a little code to get you started with that:\n",
    "  ```\n",
    "  from nltk.corpus import wordnet as wn\n",
    "  dog_compatible_synsets = wn.synsets('dog', pos='n')\n",
    " ```"
   ]
  },
  {
   "cell_type": "code",
   "execution_count": 26,
   "metadata": {},
   "outputs": [],
   "source": [
    "def bow_featurize(words, feature_counter, n, prefix=\"\", directional_prefix=\"\", use_middle_length=False):\n",
    "    for i in range(0, len(words), n):\n",
    "            end = i + n\n",
    "            if (len(words) - i) < n:\n",
    "                end = len(words)\n",
    "            n_gram = ' '.join(words[i:end])\n",
    "            n_gram = directional_prefix + n_gram\n",
    "            feature_counter[prefix + n_gram] += 1\n",
    "    if use_middle_length:\n",
    "        feature_counter[directional_prefix+'NUM_WORD_IN_MIDDLE']  += len(words)\n",
    "    return feature_counter"
   ]
  },
  {
   "cell_type": "code",
   "execution_count": 27,
   "metadata": {},
   "outputs": [],
   "source": [
    "def ngrams_bag_of_words_featurizer(kbt, corpus, feature_counter, n=2, \n",
    "                                   directional=False, use_middle_length=False,\n",
    "                                   use_left=False, use_right=False):\n",
    "    for ex in corpus.get_examples_for_entities(kbt.sbj, kbt.obj):\n",
    "        words = ex.middle.split(' ')\n",
    "        directional_prefix=\"\"\n",
    "        if directional:\n",
    "            directional_prefix = \"FWD_\"\n",
    "        feature_counter = bow_featurize(words, feature_counter, n, \"middle_\", directional_prefix, use_middle_length)\n",
    "        if use_left:\n",
    "            words = ex.middle.split(' ')\n",
    "            feature_counter = bow_featurize(words, feature_counter, n, \"left_\", directional_prefix, use_middle_length)\n",
    "        if use_right:\n",
    "            words = ex.middle.split(' ')\n",
    "            feature_counter = bow_featurize(words, feature_counter, n, \"right_\", directional_prefix, use_middle_length)\n",
    "        \n",
    "    for ex in corpus.get_examples_for_entities(kbt.obj, kbt.sbj):\n",
    "        words = ex.middle.split(' ')\n",
    "        directional_prefix=\"\"\n",
    "        if directional:\n",
    "            directional_prefix = \"BWD_\"\n",
    "        feature_counter = bow_featurize(words, feature_counter, n, \"middle_\", directional_prefix, use_middle_length)\n",
    "        if use_left:\n",
    "            words = ex.middle.split(' ')\n",
    "            feature_counter = bow_featurize(words, feature_counter, n, \"left_\", directional_prefix, use_middle_length)\n",
    "        if use_right:\n",
    "            words = ex.middle.split(' ')\n",
    "            feature_counter = bow_featurize(words, feature_counter, n, \"right_\", directional_prefix, use_middle_length)\n",
    "    return feature_counter"
   ]
  },
  {
   "cell_type": "code",
   "execution_count": 28,
   "metadata": {},
   "outputs": [],
   "source": [
    "bigrams_bag_of_words_featurizer = partial(ngrams_bag_of_words_featurizer, n=2)\n",
    "trigrams_bag_of_words_featurizer = partial(ngrams_bag_of_words_featurizer, n=3)"
   ]
  },
  {
   "cell_type": "code",
   "execution_count": 29,
   "metadata": {},
   "outputs": [],
   "source": [
    "def ensembled_bow_pos_ngrams_final(kbt, corpus, feature_counter):\n",
    "    feature_counter = directional_bag_of_words_featurizer(kbt, corpus, feature_counter, use_middle_length=True,\n",
    "                                        use_entities=True, include_left=True, include_right=True)\n",
    "    feature_counter = bigram_pos_tag_featurizer(kbt, corpus, feature_counter, use_left=True, use_bt_pos=True)\n",
    "    return ngrams_bag_of_words_featurizer(kbt, corpus, feature_counter, n=2, directional=True, \n",
    "                                        use_left=True, use_right=True)"
   ]
  },
  {
   "cell_type": "code",
   "execution_count": 30,
   "metadata": {},
   "outputs": [
    {
     "name": "stdout",
     "output_type": "stream",
     "text": [
      "relation              precision     recall    f-score    support       size\n",
      "------------------    ---------  ---------  ---------  ---------  ---------\n",
      "nationality               0.879      0.698      0.835        301       5677\n",
      "capital                   0.676      0.263      0.514         95       5471\n",
      "author                    0.870      0.764      0.847        509       5885\n",
      "contains                  0.877      0.762      0.851       3904       9280\n",
      "founders                  0.795      0.532      0.723        380       5756\n",
      "profession                0.857      0.510      0.754        247       5623\n",
      "parents                   0.895      0.654      0.833        312       5688\n",
      "worked_at                 0.812      0.430      0.690        242       5618\n",
      "film_performance          0.873      0.726      0.839        766       6142\n",
      "has_sibling               0.891      0.685      0.840        499       5875\n",
      "place_of_death            0.830      0.459      0.714        159       5535\n",
      "place_of_birth            0.807      0.485      0.712        233       5609\n",
      "has_spouse                0.847      0.680      0.807        594       5970\n",
      "genre                     0.848      0.329      0.645        170       5546\n",
      "adjoins                   0.772      0.509      0.700        340       5716\n",
      "is_a                      0.835      0.551      0.757        497       5873\n",
      "------------------    ---------  ---------  ---------  ---------  ---------\n",
      "macro-average             0.835      0.565      0.754       9248      95264\n"
     ]
    }
   ],
   "source": [
    "ensembled_bow_pos_ngrams_direct_results = rel_ext.experiment(\n",
    "    splits,\n",
    "    train_split='train',\n",
    "    test_split='dev',\n",
    "    featurizers=[ensembled_bow_pos_ngrams_final],\n",
    "    model_factory=model_factory_4k,\n",
    "    verbose=True)"
   ]
  },
  {
   "cell_type": "markdown",
   "metadata": {},
   "source": [
    "## Bake-off [1 point]\n",
    "\n",
    "For the bake-off, we will release a test set right after class on April 29. The announcement will go out on Piazza. You will evaluate your custom model from the previous question on these new datasets using the function `rel_ext.bake_off_experiment`. Rules:\n",
    "\n",
    "1. Only one evaluation is permitted.\n",
    "1. No additional system tuning is permitted once the bake-off has started.\n",
    "\n",
    "To enter the bake-off, upload this notebook on Canvas:\n",
    "\n",
    "https://canvas.stanford.edu/courses/99711/assignments/187248\n",
    "\n",
    "The cells below this one constitute your bake-off entry.\n",
    "\n",
    "People who enter will receive the additional homework point, and people whose systems achieve the top score will receive an additional 0.5 points. We will test the top-performing systems ourselves, and only systems for which we can reproduce the reported results will win the extra 0.5 points.\n",
    "\n",
    "The bake-off will close at 4:30 pm on May 1. Late entries will be accepted, but they cannot earn the extra 0.5 points. Similarly, you cannot win the bake-off unless your homework is submitted on time."
   ]
  },
  {
   "cell_type": "code",
   "execution_count": 31,
   "metadata": {
    "pycharm": {
     "is_executing": true
    }
   },
   "outputs": [
    {
     "name": "stdout",
     "output_type": "stream",
     "text": [
      "relation              precision     recall    f-score    support       size\n",
      "------------------    ---------  ---------  ---------  ---------  ---------\n",
      "nationality               0.848      0.640      0.796        383       7067\n",
      "capital                   0.566      0.261      0.459        115       6799\n",
      "author                    0.879      0.730      0.844        645       7329\n",
      "contains                  0.847      0.782      0.833       3808      10492\n",
      "founders                  0.784      0.565      0.728        444       7128\n",
      "profession                0.829      0.423      0.695        310       6994\n",
      "parents                   0.912      0.700      0.860        427       7111\n",
      "worked_at                 0.846      0.492      0.740        323       7007\n",
      "film_performance          0.883      0.740      0.850       1011       7695\n",
      "has_sibling               0.889      0.713      0.847        717       7401\n",
      "place_of_death            0.860      0.460      0.732        200       6884\n",
      "place_of_birth            0.912      0.533      0.798        291       6975\n",
      "has_spouse                0.835      0.669      0.796        780       7464\n",
      "genre                     0.875      0.298      0.631        188       6872\n",
      "adjoins                   0.817      0.600      0.762        438       7122\n",
      "is_a                      0.818      0.499      0.725        611       7295\n",
      "------------------    ---------  ---------  ---------  ---------  ---------\n",
      "macro-average             0.837      0.569      0.756      10691     117635\n"
     ]
    }
   ],
   "source": [
    "# Enter your bake-off assessment code in this cell. \n",
    "# Please do not remove this comment.\n",
    "rel_ext.bake_off_experiment(ensembled_bow_pos_ngrams_direct_results,\n",
    "    rel_ext_data_home,\n",
    "    verbose=True)"
   ]
  },
  {
   "cell_type": "code",
   "execution_count": 32,
   "metadata": {
    "pycharm": {
     "is_executing": true
    }
   },
   "outputs": [
    {
     "data": {
      "text/plain": [
       "0.755"
      ]
     },
     "execution_count": 32,
     "metadata": {},
     "output_type": "execute_result"
    }
   ],
   "source": [
    "# On an otherwise blank line in this cell, please enter\n",
    "# your macro-average f-score (an F_0.5 score) as reported \n",
    "# by the code above. Please enter only a number between \n",
    "# 0 and 1 inclusive. Please do not remove this comment.\n",
    "0.755"
   ]
  }
 ],
 "metadata": {
  "kernelspec": {
   "display_name": "Python 3 Spark - local",
   "language": "python",
   "name": "spark-3-python"
  },
  "language_info": {
   "codemirror_mode": {
    "name": "ipython",
    "version": 3
   },
   "file_extension": ".py",
   "mimetype": "text/x-python",
   "name": "python",
   "nbconvert_exporter": "python",
   "pygments_lexer": "ipython3",
   "version": "3.5.5"
  },
  "pycharm": {
   "stem_cell": {
    "cell_type": "raw",
    "metadata": {
     "collapsed": false
    },
    "source": []
   }
  },
  "widgets": {
   "state": {},
   "version": "1.1.2"
  }
 },
 "nbformat": 4,
 "nbformat_minor": 2
}
