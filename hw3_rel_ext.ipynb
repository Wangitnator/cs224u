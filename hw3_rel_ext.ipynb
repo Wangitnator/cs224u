{
 "cells": [
  {
   "cell_type": "markdown",
   "metadata": {},
   "source": [
    "# Homework 3: Relation extraction using distant supervision"
   ]
  },
  {
   "cell_type": "code",
   "execution_count": 1,
   "metadata": {
    "pycharm": {
     "is_executing": false
    }
   },
   "outputs": [],
   "source": [
    "__author__ = \"Bill MacCartney\"\n",
    "__version__ = \"CS224U, Stanford, Spring 2019\""
   ]
  },
  {
   "cell_type": "markdown",
   "metadata": {},
   "source": [
    "## Contents\n",
    "\n",
    "1. [Overview](#Overview)\n",
    "1. [Set-up](#Set-up)\n",
    "1. [Baseline](#Baseline)\n",
    "1. [Homework questions](#Homework-questions)\n",
    "  1. [Different model factory [1 point]](#Different-model-factory-[1-point])\n",
    "  1. [Directional unigram features [2 points]](#Directional-unigram-features-[2-points])\n",
    "  1. [The part-of-speech tags of the \"middle\" words [2 points]](#The-part-of-speech-tags-of-the-\"middle\"-words-[2-points])\n",
    "  1. [Your original system [4 points]](#Your-original-system-[4-points])\n",
    "1. [Bake-off [1 point]](#Bake-off-[1-point])"
   ]
  },
  {
   "cell_type": "markdown",
   "metadata": {},
   "source": [
    "## Overview\n",
    "\n",
    "This homework and associated bake-off are devoted to the developing really effective relation extraction systems using distant supervision. \n",
    "\n",
    "As with the previous assignments, this notebook first establishes a baseline system. The initial homework questions ask you to create additional baselines and suggest areas for innovation, and the final homework question asks you to develop an original system for you to enter into the bake-off."
   ]
  },
  {
   "cell_type": "markdown",
   "metadata": {},
   "source": [
    "## Set-up\n",
    "\n",
    "See [the first notebook in this unit](rel_ext_01_task.ipynb#Set-up) for set-up instructions."
   ]
  },
  {
   "cell_type": "code",
   "execution_count": 1,
   "metadata": {
    "pycharm": {
     "is_executing": false
    }
   },
   "outputs": [],
   "source": [
    "from functools import partial\n",
    "import numpy as np\n",
    "import os\n",
    "import rel_ext\n",
    "from nltk.corpus import wordnet as wn\n",
    "from sklearn.linear_model import LogisticRegression\n",
    "from sklearn.naive_bayes import MultinomialNB\n",
    "from sklearn.svm import SVC\n",
    "import string\n",
    "import utils"
   ]
  },
  {
   "cell_type": "markdown",
   "metadata": {},
   "source": [
    "As usual, we unite our corpus and KB into a dataset, and create some splits for experimentation:"
   ]
  },
  {
   "cell_type": "code",
   "execution_count": 2,
   "metadata": {
    "pycharm": {
     "is_executing": false
    }
   },
   "outputs": [],
   "source": [
    "DATA_HOME = '/home/kd/data/data'\n",
    "rel_ext_data_home = os.path.join(DATA_HOME, 'rel_ext_data')\n",
    "GLOVE_HOME = os.path.join(DATA_HOME, 'glove.6B')"
   ]
  },
  {
   "cell_type": "code",
   "execution_count": 3,
   "metadata": {},
   "outputs": [],
   "source": [
    "glove_lookup = utils.glove2dict(\n",
    "    os.path.join(GLOVE_HOME, 'glove.6B.300d.txt'))"
   ]
  },
  {
   "cell_type": "code",
   "execution_count": 4,
   "metadata": {
    "pycharm": {
     "is_executing": false
    }
   },
   "outputs": [],
   "source": [
    "corpus = rel_ext.Corpus(os.path.join(rel_ext_data_home, 'corpus.tsv.gz'))"
   ]
  },
  {
   "cell_type": "code",
   "execution_count": 5,
   "metadata": {
    "pycharm": {
     "is_executing": false
    }
   },
   "outputs": [],
   "source": [
    "kb = rel_ext.KB(os.path.join(rel_ext_data_home, 'kb.tsv.gz'))"
   ]
  },
  {
   "cell_type": "code",
   "execution_count": 6,
   "metadata": {
    "pycharm": {
     "is_executing": false
    }
   },
   "outputs": [],
   "source": [
    "dataset = rel_ext.Dataset(corpus, kb)"
   ]
  },
  {
   "cell_type": "markdown",
   "metadata": {},
   "source": [
    "You are not wedded to this set-up for splits. The bake-off will be conducted on a previously unseen test-set, so all of the data in `dataset` is fair game:"
   ]
  },
  {
   "cell_type": "code",
   "execution_count": 7,
   "metadata": {
    "pycharm": {
     "is_executing": false
    }
   },
   "outputs": [],
   "source": [
    "splits = dataset.build_splits(\n",
    "    split_names=['tiny', 'train', 'dev'],\n",
    "    split_fracs=[0.01, 0.79, 0.20],\n",
    "    seed=1)"
   ]
  },
  {
   "cell_type": "code",
   "execution_count": 8,
   "metadata": {
    "pycharm": {
     "is_executing": false
    }
   },
   "outputs": [
    {
     "data": {
      "text/plain": [
       "{'all': Corpus with 331,696 examples; KB with 45,884 triples,\n",
       " 'dev': Corpus with 64,937 examples; KB with 9,248 triples,\n",
       " 'tiny': Corpus with 3,474 examples; KB with 445 triples,\n",
       " 'train': Corpus with 263,285 examples; KB with 36,191 triples}"
      ]
     },
     "execution_count": 8,
     "metadata": {},
     "output_type": "execute_result"
    }
   ],
   "source": [
    "splits"
   ]
  },
  {
   "cell_type": "markdown",
   "metadata": {},
   "source": [
    "## Baseline"
   ]
  },
  {
   "cell_type": "code",
   "execution_count": 36,
   "metadata": {
    "pycharm": {
     "is_executing": false
    }
   },
   "outputs": [],
   "source": [
    "def simple_bag_of_words_featurizer(kbt, corpus, feature_counter, \n",
    "                                    use_middle_length=False, \n",
    "                                    use_entities=False,\n",
    "                                    context_section='middle', # can be 'left', 'right', or 'middle'\n",
    "                                    use_synsets=False):\n",
    "    \n",
    "    for ex in corpus.get_examples_for_entities(kbt.sbj, kbt.obj):\n",
    "        words = None\n",
    "        if context_section == 'left':\n",
    "            words = ex.left.split(' ')\n",
    "        elif context_section == 'right':\n",
    "            words = ex.right.split(' ')\n",
    "        else:\n",
    "            words = ex.middle.split(' ')\n",
    "        \n",
    "        if use_synsets:            \n",
    "            pos_s = ex.middle_POS.split(' ')\n",
    "            for word, pos in zip(words,pos_s):\n",
    "                if word not in string.punctuation:\n",
    "                    feature_counter[word] += 1\n",
    "                    pos_split = pos.rsplit('/', 1)\n",
    "                    word, pos_word = pos_split[0], pos_split[1]\n",
    "                    synsets = wn.synsets(word, pos_word)\n",
    "                    for syn in synsets:\n",
    "                        feature_counter[syn.lemma()] += 1\n",
    "        else: \n",
    "            for word in words:\n",
    "                feature_counter[word] += 1\n",
    "        \n",
    "        if use_middle_length:\n",
    "            feature_counter['NUM_WORD_IN_MIDDLE']  += len(words)\n",
    "        if use_entities:\n",
    "            feature_counter[kbt.sbj] += 1\n",
    "            feature_counter[kbt.obj] += 1\n",
    "            \n",
    "    for ex in corpus.get_examples_for_entities(kbt.obj, kbt.sbj):\n",
    "        words = None\n",
    "        if context_section == 'left':\n",
    "            words = ex.left.split(' ')\n",
    "        elif context_section == 'right':\n",
    "            words = ex.right.split(' ')\n",
    "        else:\n",
    "            words = ex.middle.split(' ')\n",
    "\n",
    "        if use_synsets:            \n",
    "            pos_s = ex.middle_POS.split(' ')\n",
    "            for word, pos in zip(words,pos_s):\n",
    "                if word not in string.punctuation:\n",
    "                    feature_counter[word] += 1\n",
    "                    pos_split = pos.rsplit('/', 1)\n",
    "                    word, pos_word = pos_split[0], pos_split[1]\n",
    "                    synsets = wn.synsets(word, pos_word)\n",
    "                    for syn in synsets:\n",
    "                        feature_counter[syn.lemma()] += 1\n",
    "        else: \n",
    "            for word in words:\n",
    "                feature_counter[word] += 1\n",
    "        if use_middle_length:\n",
    "            feature_counter['NUM_WORD_IN_MIDDLE']  += len(words)\n",
    "        if use_entities:\n",
    "            feature_counter[kbt.sbj] += 1\n",
    "            feature_counter[kbt.obj] += 1\n",
    "            \n",
    "    return feature_counter"
   ]
  },
  {
   "cell_type": "code",
   "execution_count": 10,
   "metadata": {
    "pycharm": {
     "is_executing": false
    }
   },
   "outputs": [],
   "source": [
    "featurizers = [simple_bag_of_words_featurizer]"
   ]
  },
  {
   "cell_type": "code",
   "execution_count": 11,
   "metadata": {
    "pycharm": {
     "is_executing": false
    }
   },
   "outputs": [],
   "source": [
    "model_factory = lambda: LogisticRegression(fit_intercept=True, solver='liblinear')\n",
    "model_factory_400 = lambda: LogisticRegression(fit_intercept=True, solver='liblinear', max_iter=2000)"
   ]
  },
  {
   "cell_type": "code",
   "execution_count": 13,
   "metadata": {
    "pycharm": {
     "is_executing": false
    }
   },
   "outputs": [
    {
     "name": "stdout",
     "output_type": "stream",
     "text": [
      "relation              precision     recall    f-score    support       size\n",
      "------------------    ---------  ---------  ---------  ---------  ---------\n",
      "adjoins                   0.864      0.374      0.684        340       5716\n",
      "parents                   0.834      0.532      0.749        312       5688\n",
      "founders                  0.835      0.413      0.693        380       5756\n",
      "genre                     0.558      0.171      0.384        170       5546\n",
      "worked_at                 0.739      0.269      0.547        242       5618\n",
      "contains                  0.797      0.605      0.750       3904       9280\n",
      "author                    0.830      0.507      0.736        509       5885\n",
      "nationality               0.675      0.179      0.435        301       5677\n",
      "film_performance          0.783      0.547      0.721        766       6142\n",
      "place_of_birth            0.657      0.197      0.448        233       5609\n",
      "is_a                      0.671      0.225      0.481        497       5873\n",
      "place_of_death            0.500      0.126      0.313        159       5535\n",
      "has_sibling               0.860      0.246      0.574        499       5875\n",
      "capital                   0.595      0.232      0.453         95       5471\n",
      "profession                0.647      0.178      0.424        247       5623\n",
      "has_spouse                0.835      0.333      0.642        594       5970\n",
      "------------------    ---------  ---------  ---------  ---------  ---------\n",
      "macro-average             0.730      0.321      0.565       9248      95264\n"
     ]
    }
   ],
   "source": [
    "baseline_results = rel_ext.experiment(\n",
    "    splits,\n",
    "    train_split='train',\n",
    "    test_split='dev',\n",
    "    featurizers=featurizers,\n",
    "    model_factory=model_factory,\n",
    "    verbose=True)"
   ]
  },
  {
   "cell_type": "markdown",
   "metadata": {},
   "source": [
    "Studying model weights might yield insights:"
   ]
  },
  {
   "cell_type": "code",
   "execution_count": 14,
   "metadata": {
    "pycharm": {
     "is_executing": false
    }
   },
   "outputs": [
    {
     "name": "stdout",
     "output_type": "stream",
     "text": [
      "Highest and lowest feature weights for relation adjoins:\n",
      "\n",
      "     2.542 Taluks\n",
      "     2.473 Córdoba\n",
      "     2.453 Valais\n",
      "     ..... .....\n",
      "    -1.336 America\n",
      "    -1.382 Spain\n",
      "    -2.202 Earth\n",
      "\n",
      "Highest and lowest feature weights for relation parents:\n",
      "\n",
      "     5.260 son\n",
      "     4.418 daughter\n",
      "     4.296 father\n",
      "     ..... .....\n",
      "    -1.355 Tyndareus\n",
      "    -1.597 Tina\n",
      "    -1.843 played\n",
      "\n",
      "Highest and lowest feature weights for relation founders:\n",
      "\n",
      "     4.087 founder\n",
      "     3.728 founded\n",
      "     3.064 co-founder\n",
      "     ..... .....\n",
      "    -1.589 MD\n",
      "    -1.600 novel\n",
      "    -1.926 band\n",
      "\n",
      "Highest and lowest feature weights for relation genre:\n",
      "\n",
      "     2.787 series\n",
      "     2.647 movie\n",
      "     2.456 album\n",
      "     ..... .....\n",
      "    -1.702 starring\n",
      "    -1.783 at\n",
      "    -1.955 original\n",
      "\n",
      "Highest and lowest feature weights for relation worked_at:\n",
      "\n",
      "     3.077 CEO\n",
      "     2.860 professor\n",
      "     2.672 president\n",
      "     ..... .....\n",
      "    -1.374 India\n",
      "    -1.651 or\n",
      "    -1.746 state\n",
      "\n",
      "Highest and lowest feature weights for relation contains:\n",
      "\n",
      "     2.313 districts\n",
      "     2.174 third-largest\n",
      "     2.146 bordered\n",
      "     ..... .....\n",
      "    -3.074 Lancashire\n",
      "    -3.186 Midlands\n",
      "    -3.551 Ceylon\n",
      "\n",
      "Highest and lowest feature weights for relation author:\n",
      "\n",
      "     2.405 book\n",
      "     2.311 wrote\n",
      "     2.263 books\n",
      "     ..... .....\n",
      "    -2.133 1925\n",
      "    -2.967 Daisy\n",
      "    -5.863 dystopian\n",
      "\n",
      "Highest and lowest feature weights for relation nationality:\n",
      "\n",
      "     2.644 born\n",
      "     1.837 Set\n",
      "     1.823 caliph\n",
      "     ..... .....\n",
      "    -1.529 American\n",
      "    -1.704 U.S.\n",
      "    -1.957 state\n",
      "\n",
      "Highest and lowest feature weights for relation film_performance:\n",
      "\n",
      "     4.023 co-starring\n",
      "     4.012 starring\n",
      "     3.407 opposite\n",
      "     ..... .....\n",
      "    -2.113 She\n",
      "    -2.228 Anjaani\n",
      "    -2.228 Anjaana\n",
      "\n",
      "Highest and lowest feature weights for relation place_of_birth:\n",
      "\n",
      "     3.819 born\n",
      "     2.947 birthplace\n",
      "     2.400 mayor\n",
      "     ..... .....\n",
      "    -1.462 and\n",
      "    -1.815 state\n",
      "    -1.994 Oldham\n",
      "\n",
      "Highest and lowest feature weights for relation is_a:\n",
      "\n",
      "     2.787 family\n",
      "     2.646 genus\n",
      "     2.567 \n",
      "     ..... .....\n",
      "    -1.608 on\n",
      "    -1.631 now\n",
      "    -1.704 nightshade\n",
      "\n",
      "Highest and lowest feature weights for relation place_of_death:\n",
      "\n",
      "     2.378 died\n",
      "     1.988 assassinated\n",
      "     1.901 son\n",
      "     ..... .....\n",
      "    -1.130 province\n",
      "    -1.214 and\n",
      "    -1.411 state\n",
      "\n",
      "Highest and lowest feature weights for relation has_sibling:\n",
      "\n",
      "     5.375 brother\n",
      "     4.316 sister\n",
      "     3.003 Marlon\n",
      "     ..... .....\n",
      "    -1.211 starring\n",
      "    -1.229 –\n",
      "    -1.402 from\n",
      "\n",
      "Highest and lowest feature weights for relation capital:\n",
      "\n",
      "     3.536 capital\n",
      "     1.747 city\n",
      "     1.727 posted\n",
      "     ..... .....\n",
      "    -1.196 and\n",
      "    -1.257 borough\n",
      "    -1.408 States\n",
      "\n",
      "Highest and lowest feature weights for relation profession:\n",
      "\n",
      "     3.076 \n",
      "     2.535 vocalist\n",
      "     2.377 philosopher\n",
      "     ..... .....\n",
      "    -1.249 in\n",
      "    -1.256 Texas\n",
      "    -2.147 on\n",
      "\n",
      "Highest and lowest feature weights for relation has_spouse:\n",
      "\n",
      "     5.509 wife\n",
      "     4.420 married\n",
      "     4.367 widow\n",
      "     ..... .....\n",
      "    -1.282 Tyndareus\n",
      "    -1.319 children\n",
      "    -1.660 Terri\n",
      "\n"
     ]
    }
   ],
   "source": [
    "rel_ext.examine_model_weights(baseline_results)"
   ]
  },
  {
   "cell_type": "markdown",
   "metadata": {},
   "source": [
    "## Homework questions\n",
    "\n",
    "Please embed your homework responses in this notebook, and do not delete any cells from the notebook. (You are free to add as many cells as you like as part of your responses.)"
   ]
  },
  {
   "cell_type": "markdown",
   "metadata": {},
   "source": [
    "### Different model factory [1 point]\n",
    "\n",
    "The code in `rel_ext` makes it very easy to experiment with other classifier models: one need only redefine the `model_factory` argument. This question asks you to assess a [Support Vector Classifier](https://scikit-learn.org/stable/modules/generated/sklearn.svm.SVC.html).\n",
    "\n",
    "__To submit:__ A call to `rel_ext.experiment` training on the 'train' part of `splits` and assessing on its `dev` part, with `featurizers` as defined above in this notebook and the `model_factory` set to one based in an `SVC` with `kernel='linear'` and all other arguments left with default values."
   ]
  },
  {
   "cell_type": "code",
   "execution_count": 25,
   "metadata": {
    "pycharm": {
     "is_executing": false
    }
   },
   "outputs": [
    {
     "name": "stdout",
     "output_type": "stream",
     "text": [
      "relation              precision     recall    f-score    support       size\n",
      "------------------    ---------  ---------  ---------  ---------  ---------\n",
      "film_performance          0.752      0.627      0.723        766       6142\n",
      "place_of_birth            0.602      0.215      0.442        233       5609\n",
      "nationality               0.496      0.189      0.375        301       5677\n",
      "place_of_death            0.450      0.113      0.282        159       5535\n",
      "has_spouse                0.842      0.342      0.651        594       5970\n",
      "genre                     0.516      0.276      0.440        170       5546\n",
      "founders                  0.725      0.424      0.635        380       5756\n",
      "has_sibling               0.774      0.255      0.550        499       5875\n",
      "is_a                      0.608      0.284      0.495        497       5873\n",
      "profession                0.577      0.259      0.463        247       5623\n",
      "worked_at                 0.622      0.306      0.515        242       5618\n",
      "contains                  0.777      0.602      0.735       3904       9280\n",
      "author                    0.717      0.611      0.693        509       5885\n",
      "capital                   0.765      0.274      0.563         95       5471\n",
      "adjoins                   0.822      0.312      0.619        340       5716\n",
      "parents                   0.783      0.590      0.735        312       5688\n",
      "------------------    ---------  ---------  ---------  ---------  ---------\n",
      "macro-average             0.677      0.355      0.557       9248      95264\n"
     ]
    }
   ],
   "source": [
    "svc_model_factory = lambda: SVC(kernel='linear')\n",
    "\n",
    "svc_results = rel_ext.experiment(\n",
    "    splits,\n",
    "    train_split='train',\n",
    "    test_split='dev',\n",
    "    featurizers=featurizers,\n",
    "    model_factory=svc_model_factory,\n",
    "    verbose=True)"
   ]
  },
  {
   "cell_type": "markdown",
   "metadata": {},
   "source": [
    "### Directional unigram features [2 points]\n",
    "\n",
    "The current bag-of-words representation makes no distinction between \"forward\" and \"reverse\" examples. But, intuitively, there is big difference between _X and his son Y_ and _Y and his son X_. This question asks you to modify `simple_bag_of_words_featurizer` to capture these differences. \n",
    "\n",
    "__To submit:__\n",
    "\n",
    "1. A feature function `directional_bag_of_words_featurizer` that is just like `simple_bag_of_words_featurizer` except that it distinguishes \"forward\" and \"reverse\". To do this, you just need to mark each word feature for whether it is derived from a subject–object example or from an object–subject example. The precise nature of the mark you add for the two cases doesn't make a difference to the model.\n",
    "\n",
    "2. The macro-average F-score on the `dev` set that you obtain from running `rel_ext.experiment` with `directional_bag_of_words_featurizer` as the only featurizer. (Aside from this, use all the default values for `experiment` as exemplified above in this notebook.)\n",
    "\n",
    "3. `rel_ext.experiment` returns some of the core objects used in the experiment. How many feature names does the `vectorizer` have for the experiment run in the previous step? (Note: we're partly asking you to figure out how to get this value by using the sklearn documentation, so please don't ask how to do it on Piazza!)"
   ]
  },
  {
   "cell_type": "code",
   "execution_count": 58,
   "metadata": {
    "pycharm": {
     "is_executing": false
    }
   },
   "outputs": [
    {
     "name": "stdout",
     "output_type": "stream",
     "text": [
      "relation              precision     recall    f-score    support       size\n",
      "------------------    ---------  ---------  ---------  ---------  ---------\n",
      "film_performance          0.848      0.646      0.798        766       6142\n",
      "place_of_birth            0.692      0.232      0.495        233       5609\n",
      "nationality               0.615      0.213      0.446        301       5677\n",
      "place_of_death            0.537      0.138      0.341        159       5535\n",
      "has_spouse                0.880      0.345      0.672        594       5970\n",
      "genre                     0.652      0.265      0.504        170       5546\n",
      "founders                  0.822      0.413      0.686        380       5756\n",
      "has_sibling               0.857      0.253      0.580        499       5875\n",
      "is_a                      0.735      0.229      0.510        497       5873\n",
      "profession                0.722      0.231      0.506        247       5623\n",
      "worked_at                 0.727      0.264      0.539        242       5618\n",
      "contains                  0.825      0.648      0.782       3904       9280\n",
      "author                    0.811      0.591      0.755        509       5885\n",
      "capital                   0.667      0.211      0.465         95       5471\n",
      "adjoins                   0.886      0.412      0.720        340       5716\n",
      "parents                   0.845      0.526      0.754        312       5688\n",
      "------------------    ---------  ---------  ---------  ---------  ---------\n",
      "macro-average             0.758      0.351      0.597       9248      95264\n"
     ]
    }
   ],
   "source": [
    "def directional_bag_of_words_featurizer(kbt, corpus, feature_counter, fwd_prefix='$FWD_DIRECTION: ', \n",
    "                                        bwd_prefix='$BWD_DIREECTION: ', use_middle_length=False,\n",
    "                                        use_entities=False):\n",
    "    for ex in corpus.get_examples_for_entities(kbt.sbj, kbt.obj):\n",
    "        words = ex.middle.split(' ')\n",
    "        for word in words:\n",
    "            word_direction = fwd_prefix + word\n",
    "            feature_counter[word_direction] += 1\n",
    "        if use_middle_length:\n",
    "            feature_counter['FWD_NUM_WORD_IN_MIDDLE']  += len(words)\n",
    "        if use_entities:\n",
    "            feature_counter[kbt.sbj] += 1\n",
    "            feature_counter[kbt.obj] += 1\n",
    "    for ex in corpus.get_examples_for_entities(kbt.obj, kbt.sbj):\n",
    "        words = ex.middle.split(' ')\n",
    "        for word in words:\n",
    "            word_direction = bwd_prefix + word\n",
    "            feature_counter[word_direction] += 1\n",
    "        if use_middle_length:\n",
    "            feature_counter['FWD_NUM_WORD_IN_MIDDLE']  += len(words)\n",
    "        if use_entities:\n",
    "            feature_counter[kbt.sbj] += 1\n",
    "            feature_counter[kbt.obj] += 1\n",
    "    return feature_counter\n",
    "\n",
    "directional_bag_results = rel_ext.experiment(\n",
    "    splits,\n",
    "    train_split='train',\n",
    "    test_split='dev',\n",
    "    featurizers=[directional_bag_of_words_featurizer],\n",
    "    model_factory=model_factory,\n",
    "    verbose=True)"
   ]
  },
  {
   "cell_type": "markdown",
   "metadata": {},
   "source": [
    "### The part-of-speech tags of the \"middle\" words [2 points]\n",
    "\n",
    "Our corpus distribution contains part-of-speech (POS) tagged versions of the core text spans. Let's begin to explore whether there is information in these sequences, focusing on `middle_POS`.\n",
    "\n",
    "__To submit:__\n",
    "\n",
    "1. A feature function `middle_bigram_pos_tag_featurizer` that is just like `simple_bag_of_words_featurizer` except that it creates a feature for bigram POS sequences. For example, given \n",
    "\n",
    "  `The/DT dog/N napped/V`\n",
    "  \n",
    "   we obtain the list of bigram POS sequences\n",
    "  \n",
    "   `b = ['<s> DT', 'DT N', 'N V', 'V </s>']`. \n",
    "   \n",
    "   Of course, `middle_bigram_pos_tag_featurizer` should return count dictionaries defined in terms of such bigram POS lists, on the model of `simple_bag_of_words_featurizer`.\n",
    "   \n",
    "   Don't forget the start and end tags, to model those environments properly!\n",
    "\n",
    "2. The macro-average F-score on the `dev` set that you obtain from running `rel_ext.experiment` with `middle_bigram_pos_tag_featurizer` as the only featurizer. (Aside from this, use all the default values for `experiment` as exemplified above in this notebook.)\n",
    "\n",
    "Note: To parse `middle_POS`, one splits on whitespace to get the `word/TAG` pairs. Each of these pairs `s` can be parsed with `s.rsplit('/', 1)`."
   ]
  },
  {
   "cell_type": "code",
   "execution_count": 13,
   "metadata": {
    "pycharm": {
     "is_executing": false
    }
   },
   "outputs": [
    {
     "name": "stdout",
     "output_type": "stream",
     "text": [
      "relation              precision     recall    f-score    support       size\n",
      "------------------    ---------  ---------  ---------  ---------  ---------\n",
      "film_performance          0.696      0.239      0.503        766       6142\n",
      "place_of_birth            0.667      0.206      0.461        233       5609\n",
      "nationality               0.564      0.176      0.391        301       5677\n",
      "place_of_death            0.615      0.151      0.381        159       5535\n",
      "has_spouse                0.795      0.254      0.558        594       5970\n",
      "genre                     0.750      0.071      0.256        170       5546\n",
      "founders                  0.746      0.139      0.399        380       5756\n",
      "has_sibling               0.745      0.158      0.428        499       5875\n",
      "is_a                      0.690      0.157      0.411        497       5873\n",
      "profession                0.758      0.190      0.475        247       5623\n",
      "worked_at                 0.578      0.153      0.371        242       5618\n",
      "contains                  0.685      0.305      0.548       3904       9280\n",
      "author                    0.800      0.251      0.557        509       5885\n",
      "capital                   0.524      0.116      0.307         95       5471\n",
      "adjoins                   0.890      0.406      0.719        340       5716\n",
      "parents                   0.704      0.260      0.525        312       5688\n",
      "------------------    ---------  ---------  ---------  ---------  ---------\n",
      "macro-average             0.700      0.202      0.456       9248      95264\n"
     ]
    }
   ],
   "source": [
    "def middle_bigram_pos_tag_featurizer(kbt, corpus, feature_counter):\n",
    "    for ex in corpus.get_examples_for_entities(kbt.sbj, kbt.obj):\n",
    "        word_POSs = ex.middle_POS.split(' ')\n",
    "        len_POS = len(word_POSs)\n",
    "        for i in range(-1, len_POS - 1):\n",
    "            pos = word_POSs[i].rsplit('/', 1)\n",
    "            bigram = \"\"\n",
    "            if len(pos) > 1:\n",
    "                if i == -1:\n",
    "                    bigram = '<s> ' + pos[1]\n",
    "                elif i == len_POS - 2:\n",
    "                    bigram = pos[1] + ' </s>'\n",
    "                else:\n",
    "                    bigram = pos[1] + \" \" + word_POSs[i+1].rsplit('/', 1)[1]\n",
    "            feature_counter[bigram] += 1\n",
    "    return feature_counter\n",
    "\n",
    "ngram_results = rel_ext.experiment(\n",
    "    splits,\n",
    "    train_split='train',\n",
    "    test_split='dev',\n",
    "    featurizers=[middle_bigram_pos_tag_featurizer],\n",
    "    model_factory=model_factory,\n",
    "    verbose=True)"
   ]
  },
  {
   "cell_type": "markdown",
   "metadata": {},
   "source": [
    "### Your original system [4 points]\n",
    "\n",
    "There are many options, and this could easily grow into a project. Here are a few ideas:\n",
    "\n",
    "- Try out different classifier models, from `sklearn` and elsewhere.\n",
    "- Add a feature that indicates the length of the middle.\n",
    "- Augment the bag-of-words representation to include bigrams or trigrams (not just unigrams).\n",
    "- Introduce features based on the entity mentions themselves. <!-- \\[SPOILER: it helps a lot, maybe 4% in F-score. And combines nicely with the directional features.\\] -->\n",
    "- Experiment with features based on the context outside (rather than between) the two entity mentions — that is, the words before the first mention, or after the second.\n",
    "- Try adding features which capture syntactic information, such as the dependency-path features used by Mintz et al. 2009. The [NLTK](https://www.nltk.org/) toolkit contains a variety of [parsing algorithms](http://www.nltk.org/api/nltk.parse.html) that may help.\n",
    "- The bag-of-words representation does not permit generalization across word categories such as names of people, places, or companies. Can we do better using word embeddings such as [GloVe](https://nlp.stanford.edu/projects/glove/)?\n",
    "- Consider adding features based on WordNet synsets. Here's a little code to get you started with that:\n",
    "  ```\n",
    "  from nltk.corpus import wordnet as wn\n",
    "  dog_compatible_synsets = wn.synsets('dog', pos='n')\n",
    " ```"
   ]
  },
  {
   "cell_type": "code",
   "execution_count": 14,
   "metadata": {
    "pycharm": {
     "is_executing": false
    }
   },
   "outputs": [],
   "source": [
    "simple_bag_of_words_middle_featurizer = partial(simple_bag_of_words_featurizer,use_middle_length=True)"
   ]
  },
  {
   "cell_type": "code",
   "execution_count": 15,
   "metadata": {
    "pycharm": {
     "is_executing": false
    }
   },
   "outputs": [
    {
     "name": "stdout",
     "output_type": "stream",
     "text": [
      "relation              precision     recall    f-score    support       size\n",
      "------------------    ---------  ---------  ---------  ---------  ---------\n",
      "film_performance          0.781      0.551      0.721        766       6142\n",
      "place_of_birth            0.623      0.206      0.444        233       5609\n",
      "nationality               0.594      0.199      0.426        301       5677\n",
      "place_of_death            0.526      0.126      0.322        159       5535\n",
      "has_spouse                0.880      0.320      0.652        594       5970\n",
      "genre                     0.604      0.188      0.419        170       5546\n",
      "founders                  0.788      0.392      0.656        380       5756\n",
      "has_sibling               0.861      0.236      0.564        499       5875\n",
      "is_a                      0.707      0.199      0.468        497       5873\n",
      "profession                0.578      0.194      0.415        247       5623\n",
      "worked_at                 0.706      0.248      0.515        242       5618\n",
      "contains                  0.798      0.602      0.749       3904       9280\n",
      "author                    0.787      0.528      0.717        509       5885\n",
      "capital                   0.643      0.189      0.435         95       5471\n",
      "adjoins                   0.886      0.365      0.689        340       5716\n",
      "parents                   0.842      0.545      0.759        312       5688\n",
      "------------------    ---------  ---------  ---------  ---------  ---------\n",
      "macro-average             0.725      0.318      0.559       9248      95264\n"
     ]
    }
   ],
   "source": [
    "bow_middle_results = rel_ext.experiment(\n",
    "    splits,\n",
    "    train_split='train',\n",
    "    test_split='dev',\n",
    "    featurizers=[simple_bag_of_words_middle_featurizer],\n",
    "    model_factory=model_factory,\n",
    "    verbose=True)"
   ]
  },
  {
   "cell_type": "code",
   "execution_count": 16,
   "metadata": {},
   "outputs": [],
   "source": [
    "def ngrams_bag_of_words_featurizer(kbt, corpus, feature_counter, n=2, use_middle_length=False):\n",
    "    for ex in corpus.get_examples_for_entities(kbt.sbj, kbt.obj):\n",
    "        words = ex.middle.split(' ')\n",
    "        for i in range(0, len(words), n):\n",
    "            end = i + n\n",
    "            if (len(words) - i) < n:\n",
    "                end = len(words)\n",
    "            n_gram = ' '.join(words[i:end])\n",
    "            feature_counter[n_gram] += 1\n",
    "        if use_middle_length:\n",
    "            feature_counter['NUM_WORD_IN_MIDDLE']  += len(words)\n",
    "    for ex in corpus.get_examples_for_entities(kbt.obj, kbt.sbj):\n",
    "        words = ex.middle.split(' ')\n",
    "        for i in range(0, len(words), n):\n",
    "            end = i + n\n",
    "            if (len(words) - i) < n:\n",
    "                end = len(words)\n",
    "            n_gram = ' '.join(words[i:end])\n",
    "            feature_counter[n_gram] += 1\n",
    "        if use_middle_length:\n",
    "            feature_counter['NUM_WORD_IN_MIDDLE']  += len(words)\n",
    "            \n",
    "    return feature_counter"
   ]
  },
  {
   "cell_type": "code",
   "execution_count": 17,
   "metadata": {},
   "outputs": [],
   "source": [
    "bigrams_bag_of_words_featurizer = partial(ngrams_bag_of_words_featurizer, n=2)\n",
    "trigrams_bag_of_words_featurizer = partial(ngrams_bag_of_words_featurizer, n=3)"
   ]
  },
  {
   "cell_type": "code",
   "execution_count": 18,
   "metadata": {},
   "outputs": [
    {
     "name": "stdout",
     "output_type": "stream",
     "text": [
      "relation              precision     recall    f-score    support       size\n",
      "------------------    ---------  ---------  ---------  ---------  ---------\n",
      "film_performance          0.824      0.465      0.714        766       6142\n",
      "place_of_birth            0.652      0.193      0.442        233       5609\n",
      "nationality               0.554      0.136      0.343        301       5677\n",
      "place_of_death            0.471      0.050      0.176        159       5535\n",
      "has_spouse                0.898      0.268      0.611        594       5970\n",
      "genre                     0.738      0.182      0.459        170       5546\n",
      "founders                  0.757      0.287      0.570        380       5756\n",
      "has_sibling               0.849      0.202      0.518        499       5875\n",
      "is_a                      0.710      0.177      0.443        497       5873\n",
      "profession                0.649      0.150      0.389        247       5623\n",
      "worked_at                 0.683      0.178      0.435        242       5618\n",
      "contains                  0.805      0.575      0.745       3904       9280\n",
      "author                    0.787      0.393      0.656        509       5885\n",
      "capital                   0.714      0.158      0.419         95       5471\n",
      "adjoins                   0.891      0.335      0.669        340       5716\n",
      "parents                   0.864      0.388      0.694        312       5688\n",
      "------------------    ---------  ---------  ---------  ---------  ---------\n",
      "macro-average             0.740      0.259      0.518       9248      95264\n"
     ]
    }
   ],
   "source": [
    "bigram_results = rel_ext.experiment(\n",
    "    splits,\n",
    "    train_split='train',\n",
    "    test_split='dev',\n",
    "    featurizers=[bigrams_bag_of_words_featurizer],\n",
    "    model_factory=model_factory,\n",
    "    verbose=True)"
   ]
  },
  {
   "cell_type": "code",
   "execution_count": 19,
   "metadata": {},
   "outputs": [
    {
     "name": "stdout",
     "output_type": "stream",
     "text": [
      "relation              precision     recall    f-score    support       size\n",
      "------------------    ---------  ---------  ---------  ---------  ---------\n",
      "film_performance          0.795      0.384      0.654        766       6142\n",
      "place_of_birth            0.719      0.099      0.319        233       5609\n",
      "nationality               0.677      0.140      0.383        301       5677\n",
      "place_of_death            0.385      0.031      0.118        159       5535\n",
      "has_spouse                0.914      0.232      0.576        594       5970\n",
      "genre                     0.862      0.147      0.437        170       5546\n",
      "founders                  0.757      0.213      0.501        380       5756\n",
      "has_sibling               0.852      0.138      0.419        499       5875\n",
      "is_a                      0.769      0.121      0.371        497       5873\n",
      "profession                0.742      0.093      0.310        247       5623\n",
      "worked_at                 0.560      0.116      0.317        242       5618\n",
      "contains                  0.803      0.480      0.707       3904       9280\n",
      "author                    0.747      0.434      0.653        509       5885\n",
      "capital                   0.647      0.116      0.337         95       5471\n",
      "adjoins                   0.946      0.309      0.670        340       5716\n",
      "parents                   0.879      0.279      0.614        312       5688\n",
      "------------------    ---------  ---------  ---------  ---------  ---------\n",
      "macro-average             0.753      0.208      0.462       9248      95264\n"
     ]
    }
   ],
   "source": [
    "trigram_results = rel_ext.experiment(\n",
    "    splits,\n",
    "    train_split='train',\n",
    "    test_split='dev',\n",
    "    featurizers=[trigrams_bag_of_words_featurizer],\n",
    "    model_factory=model_factory,\n",
    "    verbose=True)"
   ]
  },
  {
   "cell_type": "code",
   "execution_count": 20,
   "metadata": {},
   "outputs": [
    {
     "name": "stdout",
     "output_type": "stream",
     "text": [
      "relation              precision     recall    f-score    support       size\n",
      "------------------    ---------  ---------  ---------  ---------  ---------\n",
      "film_performance          0.818      0.470      0.713        766       6142\n",
      "place_of_birth            0.692      0.193      0.456        233       5609\n",
      "nationality               0.592      0.140      0.359        301       5677\n",
      "place_of_death            0.467      0.044      0.160        159       5535\n",
      "has_spouse                0.874      0.256      0.589        594       5970\n",
      "genre                     0.738      0.182      0.459        170       5546\n",
      "founders                  0.766      0.276      0.566        380       5756\n",
      "has_sibling               0.890      0.178      0.495        499       5875\n",
      "is_a                      0.731      0.175      0.447        497       5873\n",
      "profession                0.684      0.158      0.411        247       5623\n",
      "worked_at                 0.682      0.186      0.445        242       5618\n",
      "contains                  0.808      0.548      0.738       3904       9280\n",
      "author                    0.777      0.458      0.682        509       5885\n",
      "capital                   0.750      0.158      0.429         95       5471\n",
      "adjoins                   0.925      0.326      0.677        340       5716\n",
      "parents                   0.857      0.385      0.688        312       5688\n",
      "------------------    ---------  ---------  ---------  ---------  ---------\n",
      "macro-average             0.753      0.258      0.519       9248      95264\n"
     ]
    }
   ],
   "source": [
    "bigrams_bag_of_words_featurizer_use_middle = partial(ngrams_bag_of_words_featurizer, n=2, use_middle_length=True)\n",
    "\n",
    "bigram_results = rel_ext.experiment(\n",
    "    splits,\n",
    "    train_split='train',\n",
    "    test_split='dev',\n",
    "    featurizers=[bigrams_bag_of_words_featurizer_use_middle],\n",
    "    model_factory=model_factory,\n",
    "    verbose=True)"
   ]
  },
  {
   "cell_type": "code",
   "execution_count": 21,
   "metadata": {},
   "outputs": [
    {
     "name": "stdout",
     "output_type": "stream",
     "text": [
      "relation              precision     recall    f-score    support       size\n",
      "------------------    ---------  ---------  ---------  ---------  ---------\n",
      "film_performance          0.827      0.551      0.752        766       6142\n",
      "place_of_birth            0.724      0.236      0.512        233       5609\n",
      "nationality               0.678      0.266      0.517        301       5677\n",
      "place_of_death            0.559      0.119      0.322        159       5535\n",
      "has_spouse                0.931      0.295      0.650        594       5970\n",
      "genre                     0.829      0.371      0.665        170       5546\n",
      "founders                  0.794      0.376      0.650        380       5756\n",
      "has_sibling               0.930      0.240      0.591        499       5875\n",
      "is_a                      0.812      0.348      0.641        497       5873\n",
      "profession                0.800      0.340      0.630        247       5623\n",
      "worked_at                 0.744      0.277      0.556        242       5618\n",
      "contains                  0.783      0.379      0.645       3904       9280\n",
      "author                    0.794      0.538      0.725        509       5885\n",
      "capital                   0.714      0.158      0.419         95       5471\n",
      "adjoins                   0.884      0.426      0.728        340       5716\n",
      "parents                   0.859      0.545      0.770        312       5688\n",
      "------------------    ---------  ---------  ---------  ---------  ---------\n",
      "macro-average             0.791      0.342      0.611       9248      95264\n"
     ]
    }
   ],
   "source": [
    "simple_bag_of_words_entities_featurizer = partial(simple_bag_of_words_featurizer, use_entities=True)\n",
    "\n",
    "use_entities_results = rel_ext.experiment(\n",
    "    splits,\n",
    "    train_split='train',\n",
    "    test_split='dev',\n",
    "    featurizers=[simple_bag_of_words_entities_featurizer],\n",
    "    model_factory=model_factory_400,\n",
    "    verbose=True)"
   ]
  },
  {
   "cell_type": "code",
   "execution_count": 22,
   "metadata": {},
   "outputs": [
    {
     "name": "stdout",
     "output_type": "stream",
     "text": [
      "relation              precision     recall    f-score    support       size\n",
      "------------------    ---------  ---------  ---------  ---------  ---------\n",
      "film_performance          0.769      0.453      0.675        766       6142\n",
      "place_of_birth            0.435      0.086      0.240        233       5609\n",
      "nationality               0.451      0.136      0.308        301       5677\n",
      "place_of_death            0.130      0.019      0.060        159       5535\n",
      "has_spouse                0.653      0.133      0.366        594       5970\n",
      "genre                     0.706      0.212      0.481        170       5546\n",
      "founders                  0.522      0.092      0.270        380       5756\n",
      "has_sibling               0.783      0.253      0.551        499       5875\n",
      "is_a                      0.642      0.282      0.511        497       5873\n",
      "profession                0.800      0.211      0.513        247       5623\n",
      "worked_at                 0.659      0.120      0.347        242       5618\n",
      "contains                  0.703      0.440      0.628       3904       9280\n",
      "author                    0.689      0.330      0.566        509       5885\n",
      "capital                   0.515      0.179      0.374         95       5471\n",
      "adjoins                   0.867      0.403      0.705        340       5716\n",
      "parents                   0.561      0.103      0.296        312       5688\n",
      "------------------    ---------  ---------  ---------  ---------  ---------\n",
      "macro-average             0.618      0.216      0.431       9248      95264\n"
     ]
    }
   ],
   "source": [
    "left_bag_of_words_featurizer = partial(simple_bag_of_words_featurizer, use_entities=True, context_section='left')\n",
    "\n",
    "use_entities_results = rel_ext.experiment(\n",
    "    splits,\n",
    "    train_split='train',\n",
    "    test_split='dev',\n",
    "    featurizers=[left_bag_of_words_featurizer],\n",
    "    model_factory=model_factory_400,\n",
    "    verbose=True)"
   ]
  },
  {
   "cell_type": "code",
   "execution_count": 23,
   "metadata": {},
   "outputs": [
    {
     "name": "stdout",
     "output_type": "stream",
     "text": [
      "relation              precision     recall    f-score    support       size\n",
      "------------------    ---------  ---------  ---------  ---------  ---------\n",
      "film_performance          0.729      0.386      0.619        766       6142\n",
      "place_of_birth            0.326      0.060      0.173        233       5609\n",
      "nationality               0.400      0.100      0.250        301       5677\n",
      "place_of_death            0.421      0.050      0.170        159       5535\n",
      "has_spouse                0.537      0.121      0.319        594       5970\n",
      "genre                     0.750      0.212      0.497        170       5546\n",
      "founders                  0.517      0.082      0.250        380       5756\n",
      "has_sibling               0.676      0.146      0.392        499       5875\n",
      "is_a                      0.619      0.219      0.454        497       5873\n",
      "profession                0.765      0.158      0.432        247       5623\n",
      "worked_at                 0.526      0.083      0.254        242       5618\n",
      "contains                  0.682      0.419      0.606       3904       9280\n",
      "author                    0.632      0.240      0.476        509       5885\n",
      "capital                   0.465      0.211      0.375         95       5471\n",
      "adjoins                   0.914      0.409      0.733        340       5716\n",
      "parents                   0.578      0.119      0.326        312       5688\n",
      "------------------    ---------  ---------  ---------  ---------  ---------\n",
      "macro-average             0.596      0.188      0.395       9248      95264\n"
     ]
    }
   ],
   "source": [
    "right_bag_of_words_featurizer = partial(simple_bag_of_words_featurizer, use_entities=True, context_section='right')\n",
    "\n",
    "use_entities_results = rel_ext.experiment(\n",
    "    splits,\n",
    "    train_split='train',\n",
    "    test_split='dev',\n",
    "    featurizers=[right_bag_of_words_featurizer],\n",
    "    model_factory=model_factory_400,\n",
    "    verbose=True)"
   ]
  },
  {
   "cell_type": "code",
   "execution_count": 26,
   "metadata": {},
   "outputs": [
    {
     "name": "stdout",
     "output_type": "stream",
     "text": [
      "relation              precision     recall    f-score    support       size\n",
      "------------------    ---------  ---------  ---------  ---------  ---------\n",
      "film_performance          0.751      0.617      0.720        766       6142\n",
      "place_of_birth            0.562      0.253      0.452        233       5609\n",
      "nationality               0.521      0.326      0.465        301       5677\n",
      "place_of_death            0.383      0.145      0.288        159       5535\n",
      "has_spouse                0.872      0.332      0.658        594       5970\n",
      "genre                     0.764      0.553      0.710        170       5546\n",
      "founders                  0.803      0.418      0.678        380       5756\n",
      "has_sibling               0.884      0.305      0.640        499       5875\n",
      "is_a                      0.742      0.493      0.674        497       5873\n",
      "profession                0.756      0.478      0.677        247       5623\n",
      "worked_at                 0.692      0.343      0.575        242       5618\n",
      "contains                  0.778      0.426      0.668       3904       9280\n",
      "author                    0.788      0.585      0.737        509       5885\n",
      "capital                   0.553      0.221      0.425         95       5471\n",
      "adjoins                   0.817      0.474      0.714        340       5716\n",
      "parents                   0.832      0.571      0.762        312       5688\n",
      "------------------    ---------  ---------  ---------  ---------  ---------\n",
      "macro-average             0.719      0.409      0.615       9248      95264\n"
     ]
    }
   ],
   "source": [
    "simple_bag_of_words_middle_entities_featurizer = partial(simple_bag_of_words_featurizer, \n",
    "                                                         use_entities=True, use_middle_length=True)\n",
    "\n",
    "use_middle_entities_results = rel_ext.experiment(\n",
    "    splits,\n",
    "    train_split='train',\n",
    "    test_split='dev',\n",
    "    featurizers=[simple_bag_of_words_middle_entities_featurizer],\n",
    "    model_factory=svc_model_factory,\n",
    "    verbose=True)"
   ]
  },
  {
   "cell_type": "code",
   "execution_count": 27,
   "metadata": {},
   "outputs": [],
   "source": [
    "def simple_bag_of_words_featurizer2(kbt, corpus, feature_counter, \n",
    "                                    use_middle_length=False, \n",
    "                                    use_entities=False,\n",
    "                                    context_section='middle', # can be 'left', 'right', or 'middle'\n",
    "                                    use_synsets=False):\n",
    "    synset_prefix = \"synset_:\"\n",
    "    for ex in corpus.get_examples_for_entities(kbt.sbj, kbt.obj):\n",
    "        words = None\n",
    "        if context_section == 'left':\n",
    "            words = ex.left.split(' ')\n",
    "        elif context_section == 'right':\n",
    "            words = ex.right.split(' ')\n",
    "        else:\n",
    "            words = ex.middle.split(' ')\n",
    "        \n",
    "        if use_synsets:            \n",
    "            pos_s = ex.middle_POS.split(' ')\n",
    "            for word, pos_pair in zip(words,pos_s):\n",
    "                if word not in string.punctuation:\n",
    "                    feature_counter[word] += 1\n",
    "                    pos_split = pos_pair.rsplit('/', 1)\n",
    "                    word, pos_word = pos_split[0], pos_split[1]\n",
    "                    synsets = wn.synsets(word)\n",
    "                    for syn in synsets:\n",
    "                        feature_counter[word] += 1\n",
    "                        for hyponym in syn.hyponyms():\n",
    "                            feature_counter[synset_prefix+hyponym.name()] += 1\n",
    "        else: \n",
    "            for word in words:\n",
    "                feature_counter[word] += 1\n",
    "        \n",
    "        if use_middle_length:\n",
    "            feature_counter['NUM_WORD_IN_MIDDLE']  += len(words)\n",
    "        if use_entities:\n",
    "            feature_counter[kbt.sbj] += 1\n",
    "            feature_counter[kbt.obj] += 1\n",
    "            \n",
    "    for ex in corpus.get_examples_for_entities(kbt.obj, kbt.sbj):\n",
    "        words = None\n",
    "        if context_section == 'left':\n",
    "            words = ex.left.split(' ')\n",
    "        elif context_section == 'right':\n",
    "            words = ex.right.split(' ')\n",
    "        else:\n",
    "            words = ex.middle.split(' ')\n",
    "\n",
    "        if use_synsets:            \n",
    "            pos_s = ex.middle_POS.split(' ')\n",
    "            for word, pos_pair in zip(words,pos_s):\n",
    "                if word not in string.punctuation:\n",
    "                    feature_counter[word] += 1\n",
    "                    pos_split = pos_pair.rsplit('/', 1)\n",
    "                    word, pos_word = pos_split[0], pos_split[1]\n",
    "                    synsets = wn.synsets(word)\n",
    "                    for syn in synsets:\n",
    "                        feature_counter[word] += 1\n",
    "                        for hyponym in syn.hyponyms():\n",
    "                            feature_counter[synset_prefix+hyponym.name()] += 1\n",
    "        else: \n",
    "            for word in words:\n",
    "                feature_counter[word] += 1\n",
    "        if use_middle_length:\n",
    "            feature_counter['NUM_WORD_IN_MIDDLE']  += len(words)\n",
    "        if use_entities:\n",
    "            feature_counter[kbt.sbj] += 1\n",
    "            feature_counter[kbt.obj] += 1\n",
    "            \n",
    "    return feature_counter"
   ]
  },
  {
   "cell_type": "code",
   "execution_count": 28,
   "metadata": {},
   "outputs": [
    {
     "name": "stdout",
     "output_type": "stream",
     "text": [
      "relation              precision     recall    f-score    support       size\n",
      "------------------    ---------  ---------  ---------  ---------  ---------\n",
      "film_performance          0.698      0.615      0.679        766       6142\n",
      "place_of_birth            0.460      0.223      0.380        233       5609\n",
      "nationality               0.374      0.243      0.338        301       5677\n",
      "place_of_death            0.329      0.145      0.262        159       5535\n",
      "has_spouse                0.795      0.327      0.618        594       5970\n",
      "genre                     0.400      0.306      0.377        170       5546\n",
      "founders                  0.630      0.447      0.582        380       5756\n",
      "has_sibling               0.730      0.261      0.537        499       5875\n",
      "is_a                      0.496      0.262      0.421        497       5873\n",
      "profession                0.458      0.219      0.376        247       5623\n",
      "worked_at                 0.565      0.306      0.483        242       5618\n",
      "contains                  0.755      0.593      0.716       3904       9280\n",
      "author                    0.704      0.603      0.681        509       5885\n",
      "capital                   0.556      0.263      0.455         95       5471\n",
      "adjoins                   0.649      0.326      0.542        340       5716\n",
      "parents                   0.776      0.545      0.715        312       5688\n",
      "------------------    ---------  ---------  ---------  ---------  ---------\n",
      "macro-average             0.586      0.355      0.510       9248      95264\n"
     ]
    }
   ],
   "source": [
    "simple_bag_of_words_synsets_featurizer = partial(simple_bag_of_words_featurizer2, \n",
    "                                                         use_synsets=True)\n",
    "\n",
    "use_middle_entities_results = rel_ext.experiment(\n",
    "    splits,\n",
    "    train_split='train',\n",
    "    test_split='dev',\n",
    "    featurizers=[simple_bag_of_words_synsets_featurizer],\n",
    "    model_factory=model_factory_400,\n",
    "    verbose=True)"
   ]
  },
  {
   "cell_type": "code",
   "execution_count": 29,
   "metadata": {},
   "outputs": [
    {
     "name": "stdout",
     "output_type": "stream",
     "text": [
      "relation              precision     recall    f-score    support       size\n",
      "------------------    ---------  ---------  ---------  ---------  ---------\n",
      "film_performance          0.738      0.598      0.705        766       6142\n",
      "place_of_birth            0.481      0.219      0.388        233       5609\n",
      "nationality               0.484      0.306      0.434        301       5677\n",
      "place_of_death            0.403      0.157      0.307        159       5535\n",
      "has_spouse                0.877      0.300      0.633        594       5970\n",
      "genre                     0.574      0.412      0.532        170       5546\n",
      "founders                  0.647      0.400      0.576        380       5756\n",
      "has_sibling               0.772      0.244      0.539        499       5875\n",
      "is_a                      0.676      0.356      0.573        497       5873\n",
      "profession                0.730      0.328      0.586        247       5623\n",
      "worked_at                 0.615      0.277      0.494        242       5618\n",
      "contains                  0.768      0.472      0.682       3904       9280\n",
      "author                    0.767      0.587      0.723        509       5885\n",
      "capital                   0.629      0.232      0.468         95       5471\n",
      "adjoins                   0.671      0.324      0.552        340       5716\n",
      "parents                   0.779      0.519      0.708        312       5688\n",
      "------------------    ---------  ---------  ---------  ---------  ---------\n",
      "macro-average             0.663      0.358      0.556       9248      95264\n"
     ]
    }
   ],
   "source": [
    "simple_bag_of_words_all_featurizer = partial(simple_bag_of_words_featurizer2, \n",
    "                                            use_entities=True, use_middle_length=True, use_synsets=True)\n",
    "\n",
    "use_middle_entities_results = rel_ext.experiment(\n",
    "    splits,\n",
    "    train_split='train',\n",
    "    test_split='dev',\n",
    "    featurizers=[simple_bag_of_words_all_featurizer],\n",
    "    model_factory=model_factory_400,\n",
    "    verbose=True)"
   ]
  },
  {
   "cell_type": "code",
   "execution_count": 37,
   "metadata": {},
   "outputs": [
    {
     "name": "stdout",
     "output_type": "stream",
     "text": [
      "relation              precision     recall    f-score    support       size\n",
      "------------------    ---------  ---------  ---------  ---------  ---------\n",
      "film_performance          0.738      0.598      0.705        766       6142\n",
      "place_of_birth            0.481      0.219      0.388        233       5609\n",
      "nationality               0.484      0.306      0.434        301       5677\n",
      "place_of_death            0.403      0.157      0.307        159       5535\n",
      "has_spouse                0.877      0.300      0.633        594       5970\n",
      "genre                     0.574      0.412      0.532        170       5546\n",
      "founders                  0.647      0.400      0.576        380       5756\n",
      "has_sibling               0.772      0.244      0.539        499       5875\n",
      "is_a                      0.676      0.356      0.573        497       5873\n",
      "profession                0.730      0.328      0.586        247       5623\n",
      "worked_at                 0.615      0.277      0.494        242       5618\n",
      "contains                  0.768      0.472      0.682       3904       9280\n",
      "author                    0.767      0.587      0.723        509       5885\n",
      "capital                   0.629      0.232      0.468         95       5471\n",
      "adjoins                   0.671      0.324      0.552        340       5716\n",
      "parents                   0.779      0.519      0.708        312       5688\n",
      "------------------    ---------  ---------  ---------  ---------  ---------\n",
      "macro-average             0.663      0.358      0.556       9248      95264\n"
     ]
    }
   ],
   "source": [
    "simple_bag_of_words_all_featurizer = partial(simple_bag_of_words_featurizer2, \n",
    "                                            use_entities=True, use_middle_length=True, use_synsets=True)\n",
    "\n",
    "use_middle_entities_results = rel_ext.experiment(\n",
    "    splits,\n",
    "    train_split='train',\n",
    "    test_split='dev',\n",
    "    featurizers=[simple_bag_of_words_all_featurizer],\n",
    "    model_factory=model_factory_400,\n",
    "    verbose=True)"
   ]
  },
  {
   "cell_type": "code",
   "execution_count": 39,
   "metadata": {},
   "outputs": [
    {
     "name": "stdout",
     "output_type": "stream",
     "text": [
      "relation              precision     recall    f-score    support       size\n",
      "------------------    ---------  ---------  ---------  ---------  ---------\n",
      "film_performance          0.847      0.645      0.797        766       6142\n",
      "place_of_birth            0.696      0.236      0.501        233       5609\n",
      "nationality               0.619      0.216      0.451        301       5677\n",
      "place_of_death            0.550      0.138      0.345        159       5535\n",
      "has_spouse                0.896      0.347      0.680        594       5970\n",
      "genre                     0.687      0.271      0.525        170       5546\n",
      "founders                  0.824      0.418      0.690        380       5756\n",
      "has_sibling               0.897      0.244      0.585        499       5875\n",
      "is_a                      0.752      0.225      0.512        497       5873\n",
      "profession                0.744      0.235      0.519        247       5623\n",
      "worked_at                 0.727      0.264      0.539        242       5618\n",
      "contains                  0.839      0.660      0.796       3904       9280\n",
      "author                    0.826      0.589      0.765        509       5885\n",
      "capital                   0.606      0.211      0.441         95       5471\n",
      "adjoins                   0.890      0.403      0.717        340       5716\n",
      "parents                   0.848      0.519      0.753        312       5688\n",
      "------------------    ---------  ---------  ---------  ---------  ---------\n",
      "macro-average             0.765      0.351      0.601       9248      95264\n"
     ]
    }
   ],
   "source": [
    "directional_middle_featurizer = partial(directional_bag_of_words_featurizer, use_middle_length=True)\n",
    "\n",
    "directional_bag_results = rel_ext.experiment(\n",
    "    splits,\n",
    "    train_split='train',\n",
    "    test_split='dev',\n",
    "    featurizers=[directional_middle_featurizer],\n",
    "    model_factory=model_factory,\n",
    "    verbose=True)"
   ]
  },
  {
   "cell_type": "code",
   "execution_count": 40,
   "metadata": {},
   "outputs": [
    {
     "name": "stdout",
     "output_type": "stream",
     "text": [
      "relation              precision     recall    f-score    support       size\n",
      "------------------    ---------  ---------  ---------  ---------  ---------\n",
      "film_performance          0.854      0.633      0.798        766       6142\n",
      "place_of_birth            0.776      0.253      0.549        233       5609\n",
      "nationality               0.709      0.316      0.568        301       5677\n",
      "place_of_death            0.578      0.164      0.383        159       5535\n",
      "has_spouse                0.944      0.311      0.671        594       5970\n",
      "genre                     0.875      0.412      0.714        170       5546\n",
      "founders                  0.833      0.382      0.674        380       5756\n",
      "has_sibling               0.947      0.251      0.609        499       5875\n",
      "is_a                      0.816      0.374      0.660        497       5873\n",
      "profession                0.828      0.389      0.675        247       5623\n",
      "worked_at                 0.758      0.285      0.569        242       5618\n",
      "contains                  0.850      0.415      0.702       3904       9280\n",
      "author                    0.849      0.621      0.791        509       5885\n",
      "capital                   0.690      0.211      0.474         95       5471\n",
      "adjoins                   0.929      0.385      0.725        340       5716\n",
      "parents                   0.859      0.510      0.756        312       5688\n",
      "------------------    ---------  ---------  ---------  ---------  ---------\n",
      "macro-average             0.818      0.369      0.645       9248      95264\n"
     ]
    }
   ],
   "source": [
    "directional_middle_entities_featurizer = partial(directional_bag_of_words_featurizer, \n",
    "                                                 use_middle_length=True, use_entities=True)\n",
    "\n",
    "directional_bag_results = rel_ext.experiment(\n",
    "    splits,\n",
    "    train_split='train',\n",
    "    test_split='dev',\n",
    "    featurizers=[directional_middle_entities_featurizer],\n",
    "    model_factory=model_factory_400,\n",
    "    verbose=True)"
   ]
  },
  {
   "cell_type": "code",
   "execution_count": 61,
   "metadata": {},
   "outputs": [],
   "source": [
    "def ensembled_bow_pos_featurizer(kbt, corpus, feature_counter):\n",
    "    feature_counter = directional_bag_of_words_featurizer(kbt, corpus, feature_counter, use_middle_length=True,\n",
    "                                        use_entities=True) \n",
    "    return middle_bigram_pos_tag_featurizer(kbt, corpus, feature_counter)"
   ]
  },
  {
   "cell_type": "code",
   "execution_count": 62,
   "metadata": {},
   "outputs": [
    {
     "name": "stdout",
     "output_type": "stream",
     "text": [
      "relation              precision     recall    f-score    support       size\n",
      "------------------    ---------  ---------  ---------  ---------  ---------\n",
      "film_performance          0.864      0.638      0.807        766       6142\n",
      "place_of_birth            0.838      0.288      0.606        233       5609\n",
      "nationality               0.769      0.365      0.630        301       5677\n",
      "place_of_death            0.689      0.195      0.457        159       5535\n",
      "has_spouse                0.959      0.316      0.682        594       5970\n",
      "genre                     0.857      0.424      0.711        170       5546\n",
      "founders                  0.853      0.382      0.684        380       5756\n",
      "has_sibling               0.955      0.255      0.616        499       5875\n",
      "is_a                      0.835      0.416      0.695        497       5873\n",
      "profession                0.860      0.421      0.711        247       5623\n",
      "worked_at                 0.762      0.318      0.596        242       5618\n",
      "contains                  0.849      0.409      0.698       3904       9280\n",
      "author                    0.873      0.633      0.811        509       5885\n",
      "capital                   0.690      0.211      0.474         95       5471\n",
      "adjoins                   0.915      0.382      0.716        340       5716\n",
      "parents                   0.872      0.526      0.771        312       5688\n",
      "------------------    ---------  ---------  ---------  ---------  ---------\n",
      "macro-average             0.840      0.386      0.667       9248      95264\n"
     ]
    }
   ],
   "source": [
    "ensembled_bow_pos_results = rel_ext.experiment(\n",
    "    splits,\n",
    "    train_split='train',\n",
    "    test_split='dev',\n",
    "    featurizers=[ensembled_bow_pos_featurizer],\n",
    "    model_factory=model_factory_400,\n",
    "    verbose=True)"
   ]
  },
  {
   "cell_type": "code",
   "execution_count": 63,
   "metadata": {},
   "outputs": [],
   "source": [
    "def ensembled_bow_ngrams_featurizer(kbt, corpus, feature_counter):\n",
    "    feature_counter = directional_bag_of_words_featurizer(kbt, corpus, feature_counter, use_middle_length=True,\n",
    "                                        use_entities=True) \n",
    "    return bigrams_bag_of_words_featurizer(kbt, corpus, feature_counter)"
   ]
  },
  {
   "cell_type": "code",
   "execution_count": 65,
   "metadata": {},
   "outputs": [
    {
     "name": "stdout",
     "output_type": "stream",
     "text": [
      "relation              precision     recall    f-score    support       size\n",
      "------------------    ---------  ---------  ---------  ---------  ---------\n",
      "film_performance          0.877      0.653      0.821        766       6142\n",
      "place_of_birth            0.759      0.258      0.546        233       5609\n",
      "nationality               0.772      0.382      0.641        301       5677\n",
      "place_of_death            0.657      0.145      0.385        159       5535\n",
      "has_spouse                0.917      0.296      0.646        594       5970\n",
      "genre                     0.899      0.418      0.730        170       5546\n",
      "founders                  0.848      0.366      0.671        380       5756\n",
      "has_sibling               0.960      0.242      0.603        499       5875\n",
      "is_a                      0.857      0.386      0.689        497       5873\n",
      "profession                0.868      0.401      0.704        247       5623\n",
      "worked_at                 0.784      0.285      0.581        242       5618\n",
      "contains                  0.841      0.415      0.698       3904       9280\n",
      "author                    0.865      0.629      0.804        509       5885\n",
      "capital                   0.688      0.232      0.493         95       5471\n",
      "adjoins                   0.927      0.374      0.715        340       5716\n",
      "parents                   0.864      0.487      0.748        312       5688\n",
      "------------------    ---------  ---------  ---------  ---------  ---------\n",
      "macro-average             0.836      0.373      0.655       9248      95264\n"
     ]
    }
   ],
   "source": [
    "ensembled_bow_ngrams_results = rel_ext.experiment(\n",
    "    splits,\n",
    "    train_split='train',\n",
    "    test_split='dev',\n",
    "    featurizers=[ensembled_bow_ngrams_featurizer],\n",
    "    model_factory=model_factory_400,\n",
    "    verbose=True)"
   ]
  },
  {
   "cell_type": "code",
   "execution_count": 66,
   "metadata": {},
   "outputs": [],
   "source": [
    "def ensembled_bow_pos_ngrams_featurizer(kbt, corpus, feature_counter):\n",
    "    feature_counter = directional_bag_of_words_featurizer(kbt, corpus, feature_counter, use_middle_length=True,\n",
    "                                        use_entities=True)\n",
    "    feature_counter = middle_bigram_pos_tag_featurizer(kbt, corpus, feature_counter)\n",
    "    return bigrams_bag_of_words_featurizer(kbt, corpus, feature_counter)"
   ]
  },
  {
   "cell_type": "code",
   "execution_count": 67,
   "metadata": {},
   "outputs": [
    {
     "name": "stdout",
     "output_type": "stream",
     "text": [
      "relation              precision     recall    f-score    support       size\n",
      "------------------    ---------  ---------  ---------  ---------  ---------\n",
      "film_performance          0.872      0.648      0.815        766       6142\n",
      "place_of_birth            0.797      0.270      0.574        233       5609\n",
      "nationality               0.803      0.392      0.664        301       5677\n",
      "place_of_death            0.682      0.189      0.448        159       5535\n",
      "has_spouse                0.907      0.296      0.642        594       5970\n",
      "genre                     0.862      0.441      0.724        170       5546\n",
      "founders                  0.843      0.382      0.679        380       5756\n",
      "has_sibling               0.960      0.242      0.603        499       5875\n",
      "is_a                      0.847      0.412      0.700        497       5873\n",
      "profession                0.863      0.409      0.706        247       5623\n",
      "worked_at                 0.781      0.310      0.599        242       5618\n",
      "contains                  0.853      0.422      0.708       3904       9280\n",
      "author                    0.873      0.637      0.813        509       5885\n",
      "capital                   0.656      0.221      0.471         95       5471\n",
      "adjoins                   0.927      0.374      0.715        340       5716\n",
      "parents                   0.871      0.497      0.757        312       5688\n",
      "------------------    ---------  ---------  ---------  ---------  ---------\n",
      "macro-average             0.837      0.384      0.664       9248      95264\n"
     ]
    }
   ],
   "source": [
    "ensembled_bow_pos_ngrams_results = rel_ext.experiment(\n",
    "    splits,\n",
    "    train_split='train',\n",
    "    test_split='dev',\n",
    "    featurizers=[ensembled_bow_pos_ngrams_featurizer],\n",
    "    model_factory=model_factory_400,\n",
    "    verbose=True)"
   ]
  },
  {
   "cell_type": "code",
   "execution_count": 41,
   "metadata": {},
   "outputs": [],
   "source": [
    "def glove_bag_of_words_featurizer(kbt, corpus, feature_counter, glove_lookup,\n",
    "                                context_section='middle',\n",
    "                                use_middle_length=False,\n",
    "                                glove_dims=300): # can be 'left', 'right', or 'middle'\n",
    "    glove_vector = np.zeros(glove_dims)\n",
    "    \n",
    "    for ex in corpus.get_examples_for_entities(kbt.sbj, kbt.obj):\n",
    "        words = None\n",
    "        if context_section == 'left':\n",
    "            words = ex.left.split(' ')\n",
    "        elif context_section == 'right':\n",
    "            words = ex.right.split(' ')\n",
    "        elif context_section == 'middle':\n",
    "            words = ex.middle.split(' ')\n",
    "        else:\n",
    "            #words = ' '.join((ex.left, ex.mention_1, ex.middle, ex.mention_2, ex.right)).split(' ')\n",
    "            words = ' '.join((ex.mention_1, ex.middle, ex.mention_2)).split(' ')\n",
    "            for word in words:\n",
    "                glove_vector += glove_lookup.get(word, np.zeros(glove_dims))\n",
    "        if use_middle_length:\n",
    "            feature_counter['NUM_WORD_IN_MIDDLE']  += len(words)\n",
    "            \n",
    "    for ex in corpus.get_examples_for_entities(kbt.obj, kbt.sbj):\n",
    "        words = None\n",
    "        if context_section == 'left':\n",
    "            words = ex.left.split(' ')\n",
    "        elif context_section == 'right':\n",
    "            words = ex.right.split(' ')\n",
    "        elif context_section == 'middle':\n",
    "            words = ex.middle.split(' ')\n",
    "        else:\n",
    "            #words = ' '.join((ex.left, ex.mention_1, ex.middle, ex.mention_2, ex.right)).split(' ')\n",
    "            words = ' '.join((ex.mention_1, ex.middle, ex.mention_2)).split(' ')\n",
    "            for word in words:\n",
    "                glove_vector += glove_lookup.get(word, np.zeros(glove_dims))\n",
    "        if use_middle_length:\n",
    "            feature_counter['NUM_WORD_IN_MIDDLE']  += len(words)\n",
    "    \n",
    "    feature_prefix = \"glove_:\"\n",
    "    for i, feature in enumerate(glove_vector):\n",
    "        feature_counter[feature_prefix + str(i)] = feature\n",
    "    return feature_counter"
   ]
  },
  {
   "cell_type": "code",
   "execution_count": 42,
   "metadata": {},
   "outputs": [
    {
     "name": "stdout",
     "output_type": "stream",
     "text": [
      "relation              precision     recall    f-score    support       size\n",
      "------------------    ---------  ---------  ---------  ---------  ---------\n",
      "film_performance          0.768      0.556      0.713        766       6142\n",
      "place_of_birth            0.563      0.210      0.422        233       5609\n",
      "nationality               0.485      0.163      0.348        301       5677\n",
      "place_of_death            0.389      0.132      0.280        159       5535\n",
      "has_spouse                0.813      0.359      0.649        594       5970\n",
      "genre                     0.693      0.465      0.631        170       5546\n",
      "founders                  0.731      0.421      0.637        380       5756\n",
      "has_sibling               0.724      0.263      0.536        499       5875\n",
      "is_a                      0.630      0.322      0.529        497       5873\n",
      "profession                0.596      0.377      0.534        247       5623\n",
      "worked_at                 0.559      0.236      0.438        242       5618\n",
      "contains                  0.812      0.599      0.758       3904       9280\n",
      "author                    0.723      0.468      0.652        509       5885\n",
      "capital                   0.532      0.263      0.442         95       5471\n",
      "adjoins                   0.802      0.418      0.677        340       5716\n",
      "parents                   0.765      0.542      0.707        312       5688\n",
      "------------------    ---------  ---------  ---------  ---------  ---------\n",
      "macro-average             0.662      0.362      0.559       9248      95264\n"
     ]
    }
   ],
   "source": [
    "glove_featurizer = partial(glove_bag_of_words_featurizer, context_section='all', glove_lookup=glove_lookup)\n",
    "\n",
    "glove_results = rel_ext.experiment(\n",
    "    splits,\n",
    "    train_split='train',\n",
    "    test_split='dev',\n",
    "    featurizers=[glove_featurizer],\n",
    "    model_factory=model_factory_400,\n",
    "    verbose=True)"
   ]
  },
  {
   "cell_type": "code",
   "execution_count": 43,
   "metadata": {},
   "outputs": [
    {
     "name": "stdout",
     "output_type": "stream",
     "text": [
      "relation              precision     recall    f-score    support       size\n",
      "------------------    ---------  ---------  ---------  ---------  ---------\n",
      "film_performance          0.774      0.550      0.715        766       6142\n",
      "place_of_birth            0.605      0.210      0.440        233       5609\n",
      "nationality               0.475      0.159      0.340        301       5677\n",
      "place_of_death            0.389      0.132      0.280        159       5535\n",
      "has_spouse                0.813      0.374      0.658        594       5970\n",
      "genre                     0.669      0.476      0.619        170       5546\n",
      "founders                  0.741      0.429      0.647        380       5756\n",
      "has_sibling               0.716      0.263      0.532        499       5875\n",
      "is_a                      0.636      0.334      0.539        497       5873\n",
      "profession                0.605      0.385      0.543        247       5623\n",
      "worked_at                 0.569      0.256      0.457        242       5618\n",
      "contains                  0.814      0.599      0.759       3904       9280\n",
      "author                    0.725      0.472      0.655        509       5885\n",
      "capital                   0.595      0.263      0.475         95       5471\n",
      "adjoins                   0.803      0.421      0.680        340       5716\n",
      "parents                   0.774      0.548      0.715        312       5688\n",
      "------------------    ---------  ---------  ---------  ---------  ---------\n",
      "macro-average             0.669      0.367      0.566       9248      95264\n"
     ]
    }
   ],
   "source": [
    "glove_length_featurizer = partial(glove_bag_of_words_featurizer, \n",
    "                                  context_section='all', \n",
    "                                  use_middle_length=True, glove_lookup=glove_lookup)\n",
    "\n",
    "glove_results = rel_ext.experiment(\n",
    "    splits,\n",
    "    train_split='train',\n",
    "    test_split='dev',\n",
    "    featurizers=[glove_length_featurizer],\n",
    "    model_factory=model_factory_400,\n",
    "    verbose=True)"
   ]
  },
  {
   "cell_type": "code",
   "execution_count": 69,
   "metadata": {},
   "outputs": [
    {
     "name": "stdout",
     "output_type": "stream",
     "text": [
      "relation              precision     recall    f-score    support       size\n",
      "------------------    ---------  ---------  ---------  ---------  ---------\n",
      "film_performance          0.851      0.674      0.809        766       6142\n",
      "place_of_birth            0.681      0.339      0.567        233       5609\n",
      "nationality               0.725      0.402      0.624        301       5677\n",
      "place_of_death            0.519      0.264      0.435        159       5535\n",
      "has_spouse                0.850      0.343      0.656        594       5970\n",
      "genre                     0.735      0.588      0.700        170       5546\n",
      "founders                  0.775      0.453      0.678        380       5756\n",
      "has_sibling               0.819      0.281      0.592        499       5875\n",
      "is_a                      0.744      0.473      0.667        497       5873\n",
      "profession                0.725      0.490      0.661        247       5623\n",
      "worked_at                 0.750      0.384      0.630        242       5618\n",
      "contains                  0.865      0.506      0.758       3904       9280\n",
      "author                    0.863      0.680      0.819        509       5885\n",
      "capital                   0.574      0.284      0.477         95       5471\n",
      "adjoins                   0.876      0.415      0.716        340       5716\n",
      "parents                   0.810      0.574      0.748        312       5688\n",
      "------------------    ---------  ---------  ---------  ---------  ---------\n",
      "macro-average             0.760      0.447      0.659       9248      95264\n"
     ]
    }
   ],
   "source": [
    "def ensembled_bow_pos_glove_featurizer(kbt, corpus, feature_counter):\n",
    "    feature_counter = directional_bag_of_words_featurizer(kbt, corpus, feature_counter, use_middle_length=True,\n",
    "                                        use_entities=True)\n",
    "    feature_counter = middle_bigram_pos_tag_featurizer(kbt, corpus, feature_counter)\n",
    "    return glove_bag_of_words_featurizer(kbt, corpus, feature_counter, \n",
    "                                         context_section='all', glove_lookup=glove_lookup)\n",
    "\n",
    "glove_results = rel_ext.experiment(\n",
    "    splits,\n",
    "    train_split='train',\n",
    "    test_split='dev',\n",
    "    featurizers=[ensembled_bow_pos_glove_featurizer],\n",
    "    model_factory=model_factory_400,\n",
    "    verbose=True)"
   ]
  },
  {
   "cell_type": "markdown",
   "metadata": {},
   "source": [
    "## Bake-off [1 point]\n",
    "\n",
    "For the bake-off, we will release a test set right after class on April 29. The announcement will go out on Piazza. You will evaluate your custom model from the previous question on these new datasets using the function `rel_ext.bake_off_experiment`. Rules:\n",
    "\n",
    "1. Only one evaluation is permitted.\n",
    "1. No additional system tuning is permitted once the bake-off has started.\n",
    "\n",
    "To enter the bake-off, upload this notebook on Canvas:\n",
    "\n",
    "https://canvas.stanford.edu/courses/99711/assignments/187248\n",
    "\n",
    "The cells below this one constitute your bake-off entry.\n",
    "\n",
    "People who enter will receive the additional homework point, and people whose systems achieve the top score will receive an additional 0.5 points. We will test the top-performing systems ourselves, and only systems for which we can reproduce the reported results will win the extra 0.5 points.\n",
    "\n",
    "The bake-off will close at 4:30 pm on May 1. Late entries will be accepted, but they cannot earn the extra 0.5 points. Similarly, you cannot win the bake-off unless your homework is submitted on time."
   ]
  },
  {
   "cell_type": "code",
   "execution_count": null,
   "metadata": {
    "pycharm": {
     "is_executing": true
    }
   },
   "outputs": [],
   "source": [
    "# Enter your bake-off assessment code in this cell. \n",
    "# Please do not remove this comment.\n"
   ]
  },
  {
   "cell_type": "code",
   "execution_count": null,
   "metadata": {
    "pycharm": {
     "is_executing": true
    }
   },
   "outputs": [],
   "source": [
    "# On an otherwise blank line in this cell, please enter\n",
    "# your macro-average f-score (an F_0.5 score) as reported \n",
    "# by the code above. Please enter only a number between \n",
    "# 0 and 1 inclusive. Please do not remove this comment.\n"
   ]
  }
 ],
 "metadata": {
  "kernelspec": {
   "display_name": "Python 3 Spark - local",
   "language": "python",
   "name": "spark-3-python"
  },
  "language_info": {
   "codemirror_mode": {
    "name": "ipython",
    "version": 3
   },
   "file_extension": ".py",
   "mimetype": "text/x-python",
   "name": "python",
   "nbconvert_exporter": "python",
   "pygments_lexer": "ipython3",
   "version": "3.5.5"
  },
  "pycharm": {
   "stem_cell": {
    "cell_type": "raw",
    "metadata": {
     "collapsed": false
    },
    "source": []
   }
  },
  "widgets": {
   "state": {},
   "version": "1.1.2"
  }
 },
 "nbformat": 4,
 "nbformat_minor": 2
}
